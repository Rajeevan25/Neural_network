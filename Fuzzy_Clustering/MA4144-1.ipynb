{
 "cells": [
  {
   "cell_type": "markdown",
   "id": "838853bf-3129-40fe-9dc9-bae36cc6c212",
   "metadata": {
    "deletable": false,
    "editable": false,
    "slideshow": {
     "slide_type": ""
    },
    "tags": []
   },
   "source": [
    "# <center>Fuzzy Clustering</center>\n",
    "## <center>Inclass Project 1 - MA4144</center>\n",
    "\n",
    "This project contains 9 tasks/questions to be completed, some require written answers. Open markdow cell below the respective question that require written answers and provide (type) your answers. Questions that required written answers are given in blue fonts. Almost all written questions are open ended, they do not have a correct or wrong answer. You are free to give your opinions, but please provide related answers within the context.\n",
    "\n",
    "After finishing project run the entire notebook once and **save the notebook as a pdf** (File menu -> Save and Export Notebook As -> PDF). You are **required to upload this PDF on moodle**."
   ]
  },
  {
   "cell_type": "markdown",
   "id": "0b093dca-8f94-48a3-a27c-be7eac12798a",
   "metadata": {
    "deletable": false,
    "editable": false
   },
   "source": [
    "Use this cell to use any include any imports"
   ]
  },
  {
   "cell_type": "code",
   "execution_count": 1,
   "id": "525ae013-5a23-455f-a8bb-ea48d970378a",
   "metadata": {},
   "outputs": [],
   "source": [
    "import pandas as pd\n",
    "import numpy as np\n",
    "import matplotlib.pyplot as plt"
   ]
  },
  {
   "cell_type": "markdown",
   "id": "748e844d-c3ec-4a26-b418-8ce00346bb8a",
   "metadata": {
    "deletable": false,
    "editable": false,
    "slideshow": {
     "slide_type": ""
    },
    "tags": []
   },
   "source": [
    "**Q1.** In the following cell load the data (in the file SMDataRefined.csv) to a pandas dataframe, and display the data. Then get the data into a numpy matrix $X$, each row corresponding to a datapoint and each column to a feature, in our case whether a certain token exists ($1$) or not ($0$). Let us denote the number of rows of $X$ by $N$ and the number of columns by $M$.\n",
    "\n",
    "**About the dataset**: Each row in the dataset refers to a social media post. The first column refers to the number of likes received by each post (standardized between to the interval $[0, 1]$), the columns after that will denote the presence of a certain word (token) in the text of the post. For example, a $1$ in the column \"TextToken_life\" denotes that the particular post contained the word \"life\" in it and $0$ otherwise. These will be the features of our dataset. Our aim is to cluster these social media posts based on number of likes and words contained in it."
   ]
  },
  {
   "cell_type": "code",
   "execution_count": 2,
   "id": "74032883-8174-47a9-95d6-685d2ddad855",
   "metadata": {},
   "outputs": [
    {
     "name": "stdout",
     "output_type": "stream",
     "text": [
      "Data Preview:\n",
      "      Likes  TextToken_life  TextToken_joy  TextToken_night  TextToken_heart  \\\n",
      "0  0.285714               0              0                0                0   \n",
      "1  0.000000               0              0                0                0   \n",
      "2  0.428571               0              0                0                0   \n",
      "3  0.071429               0              0                0                0   \n",
      "4  0.214286               0              0                0                0   \n",
      "\n",
      "   TextToken_laughter  TextToken_dreams  TextToken_feeling  TextToken_day  \\\n",
      "0                   0                 0                  0              1   \n",
      "1                   0                 0                  0              0   \n",
      "2                   0                 0                  0              0   \n",
      "3                   0                 0                  0              0   \n",
      "4                   0                 0                  0              0   \n",
      "\n",
      "   TextToken_like  TextToken_new  \n",
      "0               0              0  \n",
      "1               0              0  \n",
      "2               0              0  \n",
      "3               0              0  \n",
      "4               0              1  \n"
     ]
    }
   ],
   "source": [
    "import pandas as pd\n",
    "import numpy as np\n",
    "\n",
    "# Q1: Load the data\n",
    "def load_data(file_path):\n",
    "    df = pd.read_csv(file_path)\n",
    "    print(\"Data Preview:\")\n",
    "    print(df.head())  # Display the data\n",
    "    # Convert to numpy matrix (excluding the first column which is 'likes')\n",
    "    X = df.iloc[:, 1:].values  # Each row is a datapoint, each column a feature (token presence)\n",
    "    N, M = X.shape\n",
    "    return X, N, M\n",
    "\n",
    "# Example usage:\n",
    "X, N, M = load_data('SMDataRefined.csv')\n"
   ]
  },
  {
   "cell_type": "markdown",
   "id": "efefe30c-166f-435c-a4ae-8dbac00392c1",
   "metadata": {
    "deletable": false,
    "editable": false
   },
   "source": [
    "**Q2.** In the following cell create a new function named $\\textrm{initMu}$, that takes in two parameters $\\textrm{npoints}$ and $\\textrm{nclusters}$ and outputs the membership matrix for $\\textrm{npoints}$ number of data points and $\\textrm{nclusters}$ number of clusters. Recall from the lecture that the membership matrix $U$ of dimension $N \\times c$ has the following properties.\n",
    "\n",
    "1. $0 \\leq u_{ij} \\leq 1$\n",
    "2. $\\sum\\limits_{j = 1}^{c}u_{ij} = 1$ for all $i = 1,2, \\cdots, N$\n",
    "\n",
    "You can do a random initialization. Here $\\textrm{npoints} = N$ and $\\textrm{nclusters} = c$."
   ]
  },
  {
   "cell_type": "code",
   "execution_count": 3,
   "id": "a9a7c529-f4bf-4ae2-8a64-bc203af937fb",
   "metadata": {},
   "outputs": [],
   "source": [
    "def initMu(npoints, nclusters):\n",
    "    # Random initialization of the membership matrix\n",
    "    U = np.random.rand(npoints, nclusters)\n",
    "    # Normalize so that each row sums to 1\n",
    "    U = U / np.sum(U, axis=1, keepdims=True)\n",
    "    return U\n",
    "\n",
    "# Example usage:\n",
    "U = initMu(N, 3)  # Initialize membership matrix with 3 clusters\n"
   ]
  },
  {
   "cell_type": "markdown",
   "id": "c1092e04-d846-4ea1-9ebc-44a369a5b3c5",
   "metadata": {
    "deletable": false,
    "editable": false
   },
   "source": [
    "**Q3.** In the following cell create a function named $\\textrm{calculateCenters}$ that computes and returns centers $v_j$, $j = 1, 2, \\cdots, c$ (as $c \\times M$ matrix) given the data matrix $X$ and the membership matrix $U$. Recall the following update formula for $v_j$ from the lectures.\n",
    "\n",
    "$v_j = \\frac{\\sum\\limits_{i = 1}^N {\\left( \\frac{u_{ij}}{u_{max}} \\right)}^{m_1} x_i}{\\sum\\limits_{i = 1}^N {\\left( \\frac{u_{ij}}{u_{max}} \\right)}^{m_1}}$\n",
    "\n",
    "Here $u_{max} = max \\left(u_{1j}, u_{2j}, \\cdots, u_{Nj} \\right)$ and $m_1 \\in [1, \\infty)$ is a hyperparameter we discussed in class, and will be passed in as a parameter to the function.\n",
    "\n",
    "The most efficient way to do this computation is by matrix multiplications. Try to find the appropriate matrix multiplication. You may need to transpose certain matrices."
   ]
  },
  {
   "cell_type": "code",
   "execution_count": 4,
   "id": "71f299a8-4c56-4cf3-a0de-f9e2786c9ec1",
   "metadata": {},
   "outputs": [],
   "source": [
    "def calculateCenters(X, U, m1):\n",
    "    umax = np.max(U, axis=0)\n",
    "    U_normalized = (U / umax) ** m1\n",
    "    # Compute the centers using the matrix multiplication formula\n",
    "    numerator = np.dot(U_normalized.T, X)\n",
    "    denominator = np.sum(U_normalized.T, axis=1, keepdims=True)\n",
    "    centers = numerator / denominator\n",
    "    return centers\n",
    "\n",
    "# Example usage:\n",
    "centers = calculateCenters(X, U, 2.0)\n"
   ]
  },
  {
   "cell_type": "markdown",
   "id": "0a98c661-89c7-485d-a790-90d316ed1309",
   "metadata": {
    "deletable": false,
    "editable": false
   },
   "source": [
    "**Q4.** In the following cell create a function named $\\textrm{updateMu}$ that updates the membership matrix $U$ given the data matrix $X$ and the $\\textrm{centers}$. Recall the following update formula for $u_{ij}$ from the lectures.\n",
    "\n",
    "$u_{ij} = {\\left[ \\sum\\limits_{l = 1}^c { \\left( \\frac{d_{ij}}{d_{il}} \\right)}^{\\frac{2}{m_2 - 1}} \\right]}^{-1}$\n",
    "where $d_{ij}$ is the distance between the $i$th data point and the $j$th cluster center. $m_2 \\in (1, \\infty)$ is another hyperparameter that is passed into the function.\n",
    "\n",
    "To compute distances sklearn.metrics.pairwise.pairwise_distances could be useful. For these computations, try to avoid for loops as much as possible and use the tools offered by numpy for matrix manipulations for example such as numpy.tile.\n",
    "\n",
    "The function should finally return the updated $U$ matrix."
   ]
  },
  {
   "cell_type": "code",
   "execution_count": 5,
   "id": "c7dadcdb-1267-4b66-858d-ef16caf7b309",
   "metadata": {},
   "outputs": [],
   "source": [
    "from sklearn.metrics.pairwise import pairwise_distances\n",
    "\n",
    "def updateMu(X, centers, m2):\n",
    "    # Calculate pairwise distances\n",
    "    distances = pairwise_distances(X, centers)\n",
    "    # Update the membership matrix\n",
    "    power = -1 / (m2 - 1)\n",
    "    U_new = distances ** power\n",
    "    # Normalize across clusters to ensure row sums equal 1\n",
    "    U_new = U_new / np.sum(U_new, axis=1, keepdims=True)\n",
    "    return U_new\n",
    "\n",
    "# Example usage:\n",
    "U_updated = updateMu(X, centers, 2.0)\n"
   ]
  },
  {
   "cell_type": "markdown",
   "id": "cb3457f2-2d2d-4d01-b532-4bf2650d9536",
   "metadata": {
    "deletable": false,
    "editable": false
   },
   "source": [
    "**Q5.** Use following cell to create a function called $\\textrm{fuzzyClustering}$ that takes in a data matrix $X$ the number of clusters $\\textrm{nclusters}$, $m_1$, $m_2$ hyperparameters and then returns a membership matrix $U$ and nclusters number of centers for each cluster as a matrix whose rows will correspond to the centers. Recall that the fuzzy clustering algorithm,\n",
    "\n",
    "1. Initialize the membership matrix $U$\n",
    "Repeat the following steps while max iterations (maxIter) reached or change in norm of $U$ is greater than a specified tolerance (tol).\n",
    "2. Compute cluster centers\n",
    "3. Update membership matrix\n",
    "\n",
    "The function you create should be able to compute the norm between the $U$ matrices from consecutive iterations and plot a graph depicting the variation of the change in norm of $U$ against the number of iterations. "
   ]
  },
  {
   "cell_type": "code",
   "execution_count": 6,
   "id": "ca0b707a-4b0e-45ac-974b-958bf6345aef",
   "metadata": {},
   "outputs": [],
   "source": [
    "import matplotlib.pyplot as plt\n",
    "\n",
    "def fuzzyClustering(X, nclusters, m1, m2, maxIter=100, tol=1e-4, plot_graph=False):\n",
    "    N, M = X.shape\n",
    "    U = initMu(N, nclusters)\n",
    "    norms = []\n",
    "\n",
    "    for iteration in range(maxIter):\n",
    "        centers = calculateCenters(X, U, m1)\n",
    "        U_new = updateMu(X, centers, m2)\n",
    "        \n",
    "        # Calculate the change in norm between consecutive U matrices\n",
    "        norm_diff = np.linalg.norm(U_new - U)\n",
    "        norms.append(norm_diff)\n",
    "\n",
    "        if norm_diff < tol:\n",
    "            break\n",
    "\n",
    "        U = U_new\n",
    "\n",
    "    if plot_graph:\n",
    "        # Plot the norm differences only if plot_graph is True\n",
    "        plt.plot(norms)\n",
    "        plt.xlabel(\"Iterations\")\n",
    "        plt.ylabel(\"Change in Norm of U\")\n",
    "        plt.title(\"Change in Norm of U vs Iterations\")\n",
    "        plt.show()\n",
    "\n",
    "    return U, centers\n",
    "\n",
    "# Example usage:\n",
    "U_final, final_centers = fuzzyClustering(X, 3, 1.5, 2.0)\n"
   ]
  },
  {
   "cell_type": "markdown",
   "id": "20e88b89-02ce-40ac-9469-3ac147c5f0da",
   "metadata": {
    "deletable": false,
    "editable": false
   },
   "source": [
    "**Q6.** Run the fuzzyClasssification algorithm with different hyperparameters $m_1, m_2, \\textrm{nclusters}$, note the plot of $U$-norm difference against the number of iterations. <font color='blue'>What can you say about it?</font>\n",
    "\n",
    "Now lets use the fuzzy membership to find some crisp cluster labelling $\\textrm{yfuzzy}$ to for each data point. For a given datapoint you'll assign the cluster labelling by looking at which cluster assigns the largest membership value. numpy.argmax function would be useful in this case. Again avoid for loops. "
   ]
  },
  {
   "cell_type": "code",
   "execution_count": 7,
   "id": "1d2c2e31-2aa2-40ca-b133-45aa528ac40c",
   "metadata": {},
   "outputs": [
    {
     "name": "stdout",
     "output_type": "stream",
     "text": [
      "[0 1 1 1 0 2 1 0 1 1 0 1 1 0 1 1 1 1 1 1 1 1 0 1 1 1 0 1 1 1 1 1 0 1 0 1 1\n",
      " 1 0 1 1 1 0 1 1 1 1 1 1 1 0 1 1 1 1 1 1 1 1 0 1 1 1 1 1 0 1 1 1 1 0 1 1 1\n",
      " 1 1 1 2 1 1 0 1 0 1 1 1 1 2 1 2 1 1 1 1 2 1 1 0 1 1 1 1 1 1 1 0 1 1 1 1 1\n",
      " 1 1 1 1 1 1 1 1 0 1 1 1 1 1 1 1 0 1 1 1 1 1 1 1 1 1 1 1 1 1 0 1 1 1 1 0 1\n",
      " 1 1 1 1 1 0 1 0 1 1 1 1 1 1 1 1 1 2 1 1 1 0 2 1 1 1 1 1 1 1 1 1 1 1 0 1 1\n",
      " 1 1 1 1 0 1 1 1 1 1 1 1 1 2 2 1 1 1 2 1 1 1 0 1 1 0 1 1 1 0 1 0 0 1 1 2 1\n",
      " 1 1 1 1 1 1 1 1 1 1 1 1 2 1 0 1 1 2 2 1 1 0 2 1 1 0 2 0 1 2 1 1 0 1 0 1 1\n",
      " 0 1 1 1 0 1 1 1 0 0 1 1 0 2 2 1 0 1 0 1 1 1 0 0 1 1 0 2 2 1 0 1 0 1 1 1 0\n",
      " 2 0 1 2 2 1 1 1 0 1 1 1 0 2 1 1 1 2 0 0 1 1 0 1 1 1 2 1 1 1 0 1 1 1 0 2 1\n",
      " 1 1 1 1 1 1 1 1 1 1 1 1 1 1 1 1 2 1 1 1 1 1 1 2 1 1 1 2 0 1 1 1 1 1 0 1 1\n",
      " 2 1 2 1 0 1 1 1 1 1 1 2 2 1 1 1 2 1 1 1 1 1 2 1 0 1 1 1 1 1 1 2 2 1 1 1 2\n",
      " 1 1 1 1 1 1 1 1 1 0 1 1 1 1 1 0 1 0 2 1 1 1 1 0 1 1 1 0 1 1 1 1 0 1 1 2 1\n",
      " 1 0 0 1 1 0 2 1 2 0 0 1 1 1 1 1 1 1 1 1 1 0 1 2 1 1 2 1 2 0 2 1 1 0 1 1 1\n",
      " 0 1 1 1 1 1 2 2 2 0 1 1 2 2 1 1 1 1 1 2 1 1 1 1 1 1 1 1 1 1 1 1 1 1 2 1 1\n",
      " 1 2 1 1 1 2 1 1 1 2 1 1 1 1 1 1 1 2 1 1 1 1 2 1 1 1 1 1 1 1 1 2 1 1 1 1 1\n",
      " 1 1 1 1 1 1 1 1 1 0 1 2 1 1 1 2 2 1 1 2 1 1 1 1 1 1 1 1 1 1 0 1 1 0 0 0 0\n",
      " 1 0 1 1 1 0 1 1 1 0 1 1 0 2 0 1 1 1 1 1 1 1 2 1 1 1 2 1 1 1 0 1 1 0 2 1 1\n",
      " 1 1 1 2 1 0 1 1 1 1 1 0 1 1 1 1 1 1 1 1 0 1 0 1 1 1 1 1 0 0 1 1 1 0 0 1 1\n",
      " 1 1 1 1 0 1 1 1 1 1 1 1 1 0 1 0 0 1 1 0 1 1 1 2 2 1 1 0 2 1 1 1 1 0 1 1 1\n",
      " 0 0 1 1 0 1 0 0 1 0 1 1 1 1 1 2 1 1 0 1 1 1 1 1 1 2 2 1 1]\n"
     ]
    }
   ],
   "source": [
    "def getCrispLabels(U):\n",
    "    # Assign labels based on the maximum membership value for each data point\n",
    "    yfuzzy = np.argmax(U, axis=1)\n",
    "    return yfuzzy\n",
    "\n",
    "# Example usage:\n",
    "yfuzzy = getCrispLabels(U_final)\n",
    "print(yfuzzy)"
   ]
  },
  {
   "cell_type": "markdown",
   "id": "67e828b0-f2fd-490e-afc9-c1fae858cc58",
   "metadata": {
    "deletable": false,
    "editable": false
   },
   "source": [
    "**Q7.** The Silhoutte score is a measure of how well the clustering has been done, the closer the score to $1.0$ the better the clustering. Refer to sklearn.metrics.silhouette_score. Determine the best choice of hyperparameters $m_1, m_2, \\textrm{nclusters}$ through a grid search based on the silhoutte score as the evaluation metric. <font color='blue'>Report the best combination of hyperparameters.</font> For the grid search try $m_1 = 1.0, 1.2, \\cdots, 3.0$, $m_2 = 1.2, 1.4, \\cdots, 3.0$, $\\textrm{nclusters} = 2, 3, \\cdots, 15$."
   ]
  },
  {
   "cell_type": "code",
   "execution_count": 9,
   "id": "fddd16fc-9251-4f67-8d5c-a969fffb4c92",
   "metadata": {},
   "outputs": [
    {
     "name": "stdout",
     "output_type": "stream",
     "text": [
      "Best m1, m2, nclusters: (1.5999999999999999, 1.2, 15), Silhouette Score: 0.9585223034222442\n"
     ]
    }
   ],
   "source": [
    "from sklearn.metrics import silhouette_score\n",
    "def gridSearch(X):\n",
    "    best_score = -1\n",
    "    best_params = None\n",
    "    best_U = None\n",
    "    best_centers = None\n",
    "\n",
    "    m1_values = np.arange(1.0, 3.2, 0.2)\n",
    "    m2_values = np.arange(1.2, 3.2, 0.2)\n",
    "    nclusters_values = range(2, 16)\n",
    "\n",
    "    for m1 in m1_values:\n",
    "        for m2 in m2_values:\n",
    "            for nclusters in nclusters_values:\n",
    "                U, centers = fuzzyClustering(X, nclusters, m1, m2, maxIter=50, tol=1e-4, plot_graph=False)\n",
    "                labels = getCrispLabels(U)\n",
    "                score = silhouette_score(X, labels)\n",
    "\n",
    "                if score > best_score:\n",
    "                    best_score = score\n",
    "                    best_params = (m1, m2, nclusters)\n",
    "                    best_U = U\n",
    "                    best_centers = centers\n",
    "\n",
    "    print(f\"Best m1, m2, nclusters: {best_params}, Silhouette Score: {best_score}\")\n",
    "    return best_params, best_U, best_centers\n",
    "\n",
    "# Example usage:\n",
    "best_params, best_U, best_centers = gridSearch(X)\n"
   ]
  },
  {
   "cell_type": "markdown",
   "id": "2596898b-f7a6-4f88-9a6a-0c7037c9d6e6",
   "metadata": {
    "deletable": false,
    "editable": false
   },
   "source": [
    "**Q8.** For the best combination of hyperparameters run the following visualization function with different values for $0 \\leq f_1 < f_2 < \\textrm{nclusters}$. <font color='blue'>What do you see? Explain the purpose of the code and what you would expect through this?</font>"
   ]
  },
  {
   "cell_type": "code",
   "execution_count": 10,
   "id": "3431b7fa-550b-4a09-a7c4-6935a5954f08",
   "metadata": {
    "deletable": false,
    "editable": false
   },
   "outputs": [],
   "source": [
    "def visualizeClusters2D(X, y, f1, f2):\n",
    "    colorlist = ['black', 'gray', 'red', 'sienna', 'green', 'blue', 'gold', 'darkorange', 'olive', 'lavendar', 'salmon', 'teal', 'pink', 'magenta', 'tan', 'wheat']\n",
    "\n",
    "    for i in range(8):\n",
    "        plt.scatter(X[yfuzzy == i, f1], X[yfuzzy == i, f2], color = colorlist[i])\n",
    "\n",
    "    plt.show()\n"
   ]
  },
  {
   "cell_type": "code",
   "execution_count": 11,
   "id": "2974c285-c18e-4c80-b8d1-710bfd4bd05b",
   "metadata": {},
   "outputs": [
    {
     "data": {
      "image/png": "[encoded data removed]",
      "text/plain": [
       "<Figure size 640x480 with 1 Axes>"
      ]
     },
     "metadata": {},
     "output_type": "display_data"
    }
   ],
   "source": [
    "def visualizeClusters(X, U, centers, f1, f2):\n",
    "    plt.scatter(X[:, f1], X[:, f2], c=getCrispLabels(U), cmap='viridis')\n",
    "    plt.scatter(centers[:, f1], centers[:, f2], c='red', marker='x')\n",
    "    plt.xlabel(f\"Feature {f1}\")\n",
    "    plt.ylabel(f\"Feature {f2}\")\n",
    "    plt.title(\"Cluster Visualization\")\n",
    "    plt.show()\n",
    "\n",
    "# Example usage:\n",
    "visualizeClusters(X, best_U, best_centers, 0, 1)\n"
   ]
  },
  {
   "cell_type": "markdown",
   "id": "29a012d1-a545-4c10-a3a1-b79406853a73",
   "metadata": {
    "deletable": false,
    "editable": false,
    "slideshow": {
     "slide_type": ""
    },
    "tags": []
   },
   "source": [
    "**Q9.** Load (to a pandas dataframe) the actual dataset (SMData.csv) from which the previous dataset was cleaned out. Match each entry in this dataset with the labels you found out through clustering using the best combination of hyperparameters. Go through a few of those clustered entries and notice any patterns (or common sentiment) in the text (the \"Text\" column of this dataset) of each entry within clusters vs outside the clusters. The label of the $i$th entry in the dataset $= \\textrm{yfuzzy}[i]$. <font color='blue'>Explain any observations. Based on your observations, is the clustering successful?</font>"
   ]
  },
  {
   "cell_type": "code",
   "execution_count": 12,
   "id": "282743d7-97bd-4277-a05f-fe5c3c200fc0",
   "metadata": {},
   "outputs": [
    {
     "name": "stdout",
     "output_type": "stream",
     "text": [
      "   Unnamed: 0.1  Unnamed: 0  \\\n",
      "0             0           0   \n",
      "1             1           1   \n",
      "2             2           2   \n",
      "3             3           3   \n",
      "4             4           4   \n",
      "\n",
      "                                                Text    Sentiment  \\\n",
      "0   Enjoying a beautiful day at the park!        ...   Positive     \n",
      "1   Traffic was terrible this morning.           ...   Negative     \n",
      "2   Just finished an amazing workout! 💪          ...   Positive     \n",
      "3   Excited about the upcoming weekend getaway!  ...   Positive     \n",
      "4   Trying out a new recipe for dinner tonight.  ...   Neutral      \n",
      "\n",
      "             Timestamp            User     Platform  \\\n",
      "0  2023-01-15 12:30:00   User123          Twitter     \n",
      "1  2023-01-15 08:45:00   CommuterX        Twitter     \n",
      "2  2023-01-15 15:45:00   FitnessFan      Instagram    \n",
      "3  2023-01-15 18:20:00   AdventureX       Facebook    \n",
      "4  2023-01-15 19:55:00   ChefCook        Instagram    \n",
      "\n",
      "                                     Hashtags  Retweets  Likes       Country  \\\n",
      "0   #Nature #Park                                  15.0   30.0     USA         \n",
      "1   #Traffic #Morning                               5.0   10.0     Canada      \n",
      "2   #Fitness #Workout                              20.0   40.0   USA           \n",
      "3   #Travel #Adventure                              8.0   15.0     UK          \n",
      "4   #Cooking #Food                                 12.0   25.0    Australia    \n",
      "\n",
      "   Year  Month  Day  Hour  Cluster_Label  \n",
      "0  2023      1   15    12              0  \n",
      "1  2023      1   15     8              1  \n",
      "2  2023      1   15    15              1  \n",
      "3  2023      1   15    18              1  \n",
      "4  2023      1   15    19              0  \n",
      "\n",
      "Cluster 0:\n",
      "0      Enjoying a beautiful day at the park!        ...\n",
      "4      Trying out a new recipe for dinner tonight.  ...\n",
      "7      The new movie release is a must-watch!       ...\n",
      "10     Just published a new blog post. Check it out!...\n",
      "13     New year, new fitness goals! 💪               ...\n",
      "Name: Text, dtype: object\n",
      "\n",
      "Cluster 1:\n",
      "1     Traffic was terrible this morning.           ...\n",
      "2     Just finished an amazing workout! 💪          ...\n",
      "3     Excited about the upcoming weekend getaway!  ...\n",
      "6     Rainy days call for cozy blankets and hot coc...\n",
      "8     Political discussions heating up on the timel...\n",
      "Name: Text, dtype: object\n",
      "\n",
      "Cluster 2:\n",
      "5      Feeling grateful for the little things in lif...\n",
      "77     The fear of the unknown is keeping me up at n...\n",
      "87     Awe-struck by the beauty of the night sky.   ...\n",
      "89     A surprise visit from an old friend brought t...\n",
      "94     Finding calmness amidst the chaos of daily li...\n",
      "Name: Text, dtype: object\n"
     ]
    }
   ],
   "source": [
    "def analyzeOriginalData(original_file, yfuzzy):\n",
    "    df = pd.read_csv(original_file)\n",
    "    df['Cluster_Label'] = yfuzzy\n",
    "    print(df.head())  # Display first few rows with cluster labels\n",
    "\n",
    "    # Analyze patterns in text column within clusters\n",
    "    for cluster in np.unique(yfuzzy):\n",
    "        print(f\"\\nCluster {cluster}:\")\n",
    "        print(df[df['Cluster_Label'] == cluster]['Text'].head(5))  # Display sample texts in this cluster\n",
    "\n",
    "# Example usage:\n",
    "analyzeOriginalData('SMData.csv', yfuzzy)\n"
   ]
  },
  {
   "cell_type": "code",
   "execution_count": null,
   "id": "50dca036",
   "metadata": {},
   "outputs": [],
   "source": []
  }
 ],
 "metadata": {
  "kernelspec": {
   "display_name": "Python 3 (ipykernel)",
   "language": "python",
   "name": "python3"
  },
  "language_info": {
   "codemirror_mode": {
    "name": "ipython",
    "version": 3
   },
   "file_extension": ".py",
   "mimetype": "text/x-python",
   "name": "python",
   "nbconvert_exporter": "python",
   "pygments_lexer": "ipython3",
   "version": "3.8.0"
  }
 },
 "nbformat": 4,
 "nbformat_minor": 5
}

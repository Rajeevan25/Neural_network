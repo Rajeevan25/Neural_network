{
 "cells": [
  {
   "cell_type": "code",
   "execution_count": 9,
   "metadata": {
    "colab": {
     "base_uri": "https://localhost:8080/"
    },
    "id": "a_eQgJKzyZJ9",
    "outputId": "404cb502-8587-4dc7-b5df-803cfb70c0ff"
   },
   "outputs": [
    {
     "name": "stdout",
     "output_type": "stream",
     "text": [
      "Requirement already satisfied: scikit-learn==1.3.0 in c:\\program flies\\python\\python38\\lib\\site-packages (1.3.0)\n",
      "Requirement already satisfied: numpy>=1.17.3 in c:\\program flies\\python\\python38\\lib\\site-packages (from scikit-learn==1.3.0) (1.24.1)\n",
      "Requirement already satisfied: scipy>=1.5.0 in c:\\program flies\\python\\python38\\lib\\site-packages (from scikit-learn==1.3.0) (1.10.1)\n",
      "Requirement already satisfied: joblib>=1.1.1 in c:\\program flies\\python\\python38\\lib\\site-packages (from scikit-learn==1.3.0) (1.2.0)\n",
      "Requirement already satisfied: threadpoolctl>=2.0.0 in c:\\program flies\\python\\python38\\lib\\site-packages (from scikit-learn==1.3.0) (3.1.0)\n"
     ]
    }
   ],
   "source": [
    "!pip install scikit-learn==1.3.0\n",
    "from sklearn.metrics import silhouette_score"
   ]
  },
  {
   "cell_type": "code",
   "execution_count": 10,
   "metadata": {
    "id": "zF8L-92vT6Fb"
   },
   "outputs": [],
   "source": [
    "import pandas as pd\n",
    "import numpy as np\n",
    "import matplotlib.pyplot as plt\n",
    "from sklearn.metrics.pairwise import pairwise_distances\n",
    "from sklearn.metrics import silhouette_score\n",
    "from itertools import product"
   ]
  },
  {
   "cell_type": "markdown",
   "metadata": {
    "id": "EpSFvfW_VXxE"
   },
   "source": [
    "**Q1.** In the following cell load the data (in the file SMDataRefined.csv) to a pandas dataframe, and display the data. Then get the data into a numpy matrix $X$, each row corresponding to a datapoint and each column to a feature, in our case whether a certain token exists ($1$) or not ($0$). Let us denote the number of rows of $X$ by $N$ and the number of columns by $M$.\n",
    "\n",
    "**About the dataset**: Each row in the dataset refers to a social media post. The first column refers to the number of likes received by each post (standardized between to the interval $[0, 1]$), the columns after that will denote the presence of a certain word (token) in the text of the post. For example, a $1$ in the column \"TextToken_life\" denotes that the particular post contained the word \"life\" in it and $0$ otherwise. These will be the features of our dataset. Our aim is to cluster these social media posts based on number of likes and words contained in it."
   ]
  },
  {
   "cell_type": "code",
   "execution_count": 11,
   "metadata": {
    "colab": {
     "base_uri": "https://localhost:8080/"
    },
    "id": "gpksYV-wUB_z",
    "outputId": "4752f8b8-7577-4d5c-86df-2d84454c3807"
   },
   "outputs": [
    {
     "name": "stdout",
     "output_type": "stream",
     "text": [
      "Dataframe Head:\n",
      "       Likes  TextToken_life  TextToken_joy  TextToken_night  TextToken_heart  \\\n",
      "0  0.285714               0              0                0                0   \n",
      "1  0.000000               0              0                0                0   \n",
      "2  0.428571               0              0                0                0   \n",
      "3  0.071429               0              0                0                0   \n",
      "4  0.214286               0              0                0                0   \n",
      "\n",
      "   TextToken_laughter  TextToken_dreams  TextToken_feeling  TextToken_day  \\\n",
      "0                   0                 0                  0              1   \n",
      "1                   0                 0                  0              0   \n",
      "2                   0                 0                  0              0   \n",
      "3                   0                 0                  0              0   \n",
      "4                   0                 0                  0              0   \n",
      "\n",
      "   TextToken_like  TextToken_new  \n",
      "0               0              0  \n",
      "1               0              0  \n",
      "2               0              0  \n",
      "3               0              0  \n",
      "4               0              1  \n",
      "\n",
      "Number of rows (N): 732\n",
      "Number of columns (M): 11\n",
      "\n",
      "Numpy Matrix X:\n",
      " [[0.28571429 0.         0.         ... 1.         0.         0.        ]\n",
      " [0.         0.         0.         ... 0.         0.         0.        ]\n",
      " [0.42857143 0.         0.         ... 0.         0.         0.        ]\n",
      " ...\n",
      " [0.45714286 0.         1.         ... 0.         0.         0.        ]\n",
      " [0.47142857 0.         0.         ... 0.         0.         0.        ]\n",
      " [0.52857143 0.         0.         ... 0.         0.         0.        ]]\n"
     ]
    }
   ],
   "source": [
    "df = pd.read_csv('SMDataRefined.csv')\n",
    "print(f\"Dataframe Head:\\n {df.head()}\")\n",
    "\n",
    "X = df.values\n",
    "N, M = X.shape\n",
    "print(f\"\\nNumber of rows (N): {N}\")\n",
    "print(f\"Number of columns (M): {M}\")\n",
    "print(f\"\\nNumpy Matrix X:\\n {X}\")\n"
   ]
  },
  {
   "cell_type": "markdown",
   "metadata": {
    "id": "cjxaCpMoXG0D"
   },
   "source": [
    "**Q2.** In the following cell create a new function named $\\textrm{initMu}$, that takes in two parameters $\\textrm{npoints}$ and $\\textrm{nclusters}$ and outputs the membership matrix for $\\textrm{npoints}$ number of data points and $\\textrm{nclusters}$ number of clusters. Recall from the lecture that the membership matrix $U$ of dimension $N \\times c$ has the following properties.\n",
    "\n",
    "1. $0 \\leq u_{ij} \\leq 1$\n",
    "2. $\\sum\\limits_{j = 1}^{c}u_{ij} = 1$ for all $i = 1,2, \\cdots, N$\n",
    "\n",
    "You can do a random initialization. Here $\\textrm{npoints} = N$ and $\\textrm{nclusters} = c$."
   ]
  },
  {
   "cell_type": "code",
   "execution_count": 12,
   "metadata": {
    "id": "HL-d-HqEXIkm"
   },
   "outputs": [],
   "source": [
    "def initMu(npoints, nclusters):\n",
    "    #TODO fill in the code\n",
    "    U = np.random.rand(npoints, nclusters)\n",
    "    U = U / U.sum(axis=1, keepdims=True)\n",
    "    return U\n"
   ]
  },
  {
   "cell_type": "markdown",
   "metadata": {
    "id": "NIFEubICZveI"
   },
   "source": [
    "**Q3.** In the following cell create a function named $\\textrm{calculateCenters}$ that computes and returns centers $v_j$, $j = 1, 2, \\cdots, c$ (as $c \\times M$ matrix) given the data matrix $X$ and the membership matrix $U$. Recall the following update formula for $v_j$ from the lectures.\n",
    "\n",
    "$v_j = \\frac{\\sum\\limits_{i = 1}^N {\\left( \\frac{u_{ij}}{u_{max}} \\right)}^{m_1} x_i}{\\sum\\limits_{i = 1}^N {\\left( \\frac{u_{ij}}{u_{max}} \\right)}^{m_1}}$\n",
    "\n",
    "Here $u_{max} = max \\left(u_{1j}, u_{2j}, \\cdots, u_{Nj} \\right)$ and $m_1 \\in [1, \\infty)$ is a hyperparameter we discussed in class, and will be passed in as a parameter to the function.\n",
    "\n",
    "The most efficient way to do this computation is by matrix multiplications. Try to find the appropriate matrix multiplication. You may need to transpose certain matrices."
   ]
  },
  {
   "cell_type": "code",
   "execution_count": 13,
   "metadata": {
    "id": "p2kAI9eBZ2T3"
   },
   "outputs": [],
   "source": [
    "def calculateCenters(X, U, m):\n",
    "    #TODO fill in the code\n",
    "    u_max = np.max(U, axis=0)\n",
    "    U_normalized = U / u_max\n",
    "    U_normalized_m = U_normalized ** m\n",
    "    numerator = np.dot(U_normalized_m.T , X)\n",
    "\n",
    "    denominator = np.sum(U_normalized.T, axis=1, keepdims=True)\n",
    "    centers = numerator / denominator  # (c x M) / (c x 1) = (c x M)\n",
    "    return centers"
   ]
  },
  {
   "cell_type": "markdown",
   "metadata": {
    "id": "IsWnDTMianWj"
   },
   "source": [
    "**Q4.** In the following cell create a function named $\\textrm{updateMu}$ that updates the membership matrix $U$ given the data matrix $X$ and the $\\textrm{centers}$. Recall the following update formula for $u_{ij}$ from the lectures.\n",
    "\n",
    "$u_{ij} = {\\left[ \\sum\\limits_{l = 1}^c { \\left( \\frac{d_{ij}}{d_{il}} \\right)}^{\\frac{2}{m_2 - 1}} \\right]}^{-1}$\n",
    "where $d_{ij}$ is the distance between the $i$th data point and the $j$th cluster center. $m_2 \\in (1, \\infty)$ is another hyperparameter that is passed into the function.\n",
    "\n",
    "To compute distances sklearn.metrics.pairwise.pairwise_distances could be useful. For these computations, try to avoid for loops as much as possible and use the tools offered by numpy for matrix manipulations for example such as numpy.tile.\n",
    "\n",
    "The function should finally return the updated $U$ matrix."
   ]
  },
  {
   "cell_type": "code",
   "execution_count": 14,
   "metadata": {
    "id": "58i2ShUCa6dZ"
   },
   "outputs": [],
   "source": [
    "from sklearn.metrics import pairwise_distances\n",
    "def updateMu(X, centers, m2):\n",
    "    # Calculate pairwise distances\n",
    "    distances = pairwise_distances(X, centers)\n",
    "    # Update the membership matrix\n",
    "    power = -1 / (m2 - 1)\n",
    "    U_new = distances ** power\n",
    "    # Normalize across clusters to ensure row sums equal 1\n",
    "    U_new = U_new / np.sum(U_new, axis=1, keepdims=True)\n",
    "    return U_new"
   ]
  },
  {
   "cell_type": "markdown",
   "metadata": {
    "id": "8-1xLBlRc68O"
   },
   "source": [
    "**Q5.** Use following cell to create a function called $\\textrm{fuzzyClustering}$ that takes in a data matrix $X$ the number of clusters $\\textrm{nclusters}$, $m_1$, $m_2$ hyperparameters and then returns a membership matrix $U$ and nclusters number of centers for each cluster as a matrix whose rows will correspond to the centers. Recall that the fuzzy clustering algorithm,\n",
    "\n",
    "1. Initialize the membership matrix $U$\n",
    "Repeat the following steps while max iterations (maxIter) reached or change in norm of $U$ is greater than a specified tolerance (tol).\n",
    "2. Compute cluster centers\n",
    "3. Update membership matrix\n",
    "\n",
    "The function you create should be able to compute the norm between the $U$ matrices from consecutive iterations and plot a graph depicting the variation of the change in norm of $U$ against the number of iterations."
   ]
  },
  {
   "cell_type": "code",
   "execution_count": 15,
   "metadata": {
    "id": "AIr37h4OGOsH"
   },
   "outputs": [],
   "source": [
    "def fuzzyClustering(X, nclusters, m1, m2, maxIter=100, tol=1e-4, plot_graph=False):\n",
    "    N, M = X.shape\n",
    "    U = initMu(N, nclusters)\n",
    "    norms = []\n",
    "\n",
    "    for iteration in range(maxIter):\n",
    "        centers = calculateCenters(X, U, m1)\n",
    "        U_new = updateMu(X, centers, m2)\n",
    "\n",
    "        # Calculate the change in norm between consecutive U matrices\n",
    "        norm_diff = np.linalg.norm(U_new - U)\n",
    "        norms.append(norm_diff)\n",
    "\n",
    "        if norm_diff < tol:\n",
    "            break\n",
    "\n",
    "        U = U_new\n",
    "\n",
    "    if plot_graph:\n",
    "        # Plot the norm differences only if plot_graph is True\n",
    "        plt.plot(norms)\n",
    "        plt.xlabel(\"Iterations\")\n",
    "        plt.ylabel(\"Change in Norm of U\")\n",
    "        plt.title(\"Change in Norm of U vs Iterations\")\n",
    "        plt.show()\n",
    "\n",
    "    return U, centers\n"
   ]
  },
  {
   "cell_type": "markdown",
   "metadata": {
    "id": "jV6qW2TYdHPz"
   },
   "source": [
    "**Q6.** Run the fuzzyClasssification algorithm with different hyperparameters $m_1, m_2, \\textrm{nclusters}$, note the plot of $U$-norm difference against the number of iterations. <font color='blue'>What can you say about it?</font>\n",
    "\n",
    "Now lets use the fuzzy membership to find some crisp cluster labelling $\\textrm{yfuzzy}$ to for each data point. For a given datapoint you'll assign the cluster labelling by looking at which cluster assigns the largest membership value. numpy.argmax function would be useful in this case. Again avoid for loops."
   ]
  },
  {
   "cell_type": "code",
   "execution_count": 16,
   "metadata": {
    "colab": {
     "base_uri": "https://localhost:8080/",
     "height": 472
    },
    "id": "B4krtERQGXTB",
    "outputId": "4f3e5bab-ee09-4f1e-929e-55408a64b4cc"
   },
   "outputs": [
    {
     "data": {
      "image/png": "[encoded data removed]",
      "text/plain": [
       "<Figure size 640x480 with 1 Axes>"
      ]
     },
     "metadata": {},
     "output_type": "display_data"
    }
   ],
   "source": [
    "def getCrispLabels(U):\n",
    "    # Assign labels based on the maximum membership value for each data point\n",
    "    yfuzzy = np.argmax(U, axis=1)\n",
    "    return yfuzzy\n",
    "\n",
    "\n",
    "U_final, final_centers = fuzzyClustering(X, 3, 1.5, 2.0,maxIter=50, tol=1e-4, plot_graph=True)\n",
    "yfuzzy = getCrispLabels(U_final)\n"
   ]
  },
  {
   "cell_type": "markdown",
   "metadata": {
    "id": "qOATMbgWehWS"
   },
   "source": [
    "**Q7.** The Silhoutte score is a measure of how well the clustering has been done, the closer the score to $1.0$ the better the clustering. Refer to sklearn.metrics.silhouette_score. Determine the best choice of hyperparameters $m_1, m_2, \\textrm{nclusters}$ through a grid search based on the silhoutte score as the evaluation metric. <font color='blue'>Report the best combination of hyperparameters.</font> For the grid search try $m_1 = 1.0, 1.2, \\cdots, 3.0$, $m_2 = 1.2, 1.4, \\cdots, 3.0$, $\\textrm{nclusters} = 2, 3, \\cdots, 15$."
   ]
  },
  {
   "cell_type": "code",
   "execution_count": 17,
   "metadata": {
    "colab": {
     "base_uri": "https://localhost:8080/"
    },
    "id": "aPw_XPSlGsHW",
    "outputId": "3ac84f95-9f85-44f5-eccc-dbdf5cdc2878"
   },
   "outputs": [
    {
     "name": "stdout",
     "output_type": "stream",
     "text": [
      "Best m1, m2, nclusters: (2.9999999999999996, 1.9999999999999998, 2), Silhouette Score: 0.5217409482036669\n"
     ]
    }
   ],
   "source": [
    "from sklearn.metrics import silhouette_score\n",
    "\n",
    "def gridSearch(X):\n",
    "    best_score = -1\n",
    "    best_params = None\n",
    "    best_U = None\n",
    "    best_centers = None\n",
    "\n",
    "    m1_values = np.arange(1.0, 3.2, 0.2)\n",
    "    m2_values = np.arange(1.2, 3.2, 0.2)\n",
    "    nclusters_values = range(2, 16)\n",
    "\n",
    "    for m1 in m1_values:\n",
    "        for m2 in m2_values:\n",
    "            for nclusters in nclusters_values:\n",
    "                U, centers = fuzzyClustering(X, nclusters, m1, m2, maxIter=50, tol=1e-4)\n",
    "                labels = getCrispLabels(U)\n",
    "                score = silhouette_score(X, labels)\n",
    "\n",
    "                if score > best_score:\n",
    "                    best_score = score\n",
    "                    best_params = (m1, m2, nclusters)\n",
    "                    best_U = U\n",
    "                    best_centers = centers\n",
    "\n",
    "    print(f\"Best m1, m2, nclusters: {best_params}, Silhouette Score: {best_score}\")\n",
    "    return best_params, best_U, best_centers\n",
    "\n",
    "\n",
    "best_params, best_U, best_centers = gridSearch(X)\n"
   ]
  },
  {
   "cell_type": "markdown",
   "metadata": {
    "id": "UO4wicDTerFs"
   },
   "source": [
    "**Q8.** For the best combination of hyperparameters run the following visualization function with different values for $0 \\leq f_1 < f_2 < \\textrm{nclusters}$. <font color='blue'>What do you see? Explain the purpose of the code and what you would expect through this?</font>"
   ]
  },
  {
   "cell_type": "code",
   "execution_count": 18,
   "metadata": {
    "colab": {
     "base_uri": "https://localhost:8080/",
     "height": 472
    },
    "id": "hBptaFDZHMVx",
    "outputId": "e7c27bc8-4f63-45ea-d2fb-dfd945345020"
   },
   "outputs": [
    {
     "data": {
      "image/png": "[encoded data removed]",
      "text/plain": [
       "<Figure size 640x480 with 1 Axes>"
      ]
     },
     "metadata": {},
     "output_type": "display_data"
    }
   ],
   "source": [
    "def visualizeClusters(X, U, centers, f1, f2):\n",
    "    plt.scatter(X[:, f1], X[:, f2], c=getCrispLabels(U), cmap='viridis')\n",
    "    plt.scatter(centers[:, f1], centers[:, f2], c='red', marker='x')\n",
    "    plt.xlabel(f\"Feature {f1}\")\n",
    "    plt.ylabel(f\"Feature {f2}\")\n",
    "    plt.title(\"Cluster Visualization\")\n",
    "    plt.show()\n",
    "\n",
    "visualizeClusters(X, best_U, best_centers, 0, 1)\n"
   ]
  },
  {
   "cell_type": "markdown",
   "metadata": {
    "id": "9Y30QpqKLhPe"
   },
   "source": [
    "Select Clusters for Visualization:\n",
    "\n",
    "Choose two clusters\n",
    "𝑓\n",
    "1\n",
    "f1 and\n",
    "𝑓\n",
    "2\n",
    "f2 such that\n",
    "0\n",
    "<\n",
    "𝑓\n",
    "1\n",
    "<\n",
    "𝑓\n",
    "2\n",
    "<\n",
    "nclusters\n",
    "0<f1<f2<nclusters. These clusters will be compared visually.\n",
    "The idea is to project the data points onto a 2D plane where each axis corresponds to one of these clusters.\n",
    "Compute Memberships for Selected Clusters:\n",
    "\n",
    "For each data point, extract the membership values associated with clusters\n",
    "𝑓\n",
    "1\n",
    "f1 and\n",
    "𝑓\n",
    "2\n",
    "f2.\n",
    "These membership values will serve as the coordinates for plotting the data points.\n",
    "Plot the Data Points:\n",
    "\n",
    "Create a scatter plot where each data point is represented by its membership to cluster\n",
    "𝑓\n",
    "1\n",
    "f1 on the x-axis and to cluster\n",
    "𝑓\n",
    "2\n",
    "f2 on the y-axis.\n",
    "Use different colors or markers to distinguish between data points that predominantly belong to different clusters.\n",
    "Interpret the Plot:\n",
    "\n",
    "Cluster Separation: If the clusters are well-separated, you would expect data points to form distinct groups in the plot.\n",
    "Overlap: If the clusters overlap, the data points might be spread out more uniformly across the plot, indicating that some points belong to both clusters with similar degrees of membership.\n",
    "Purpose: This visualization helps in understanding the fuzzy nature of the clustering, showing how data points are shared between clusters."
   ]
  },
  {
   "cell_type": "markdown",
   "metadata": {
    "id": "PWbGqcRlew-F"
   },
   "source": [
    "**Q9.** Load (to a pandas dataframe) the actual dataset (SMData.csv) from which the previous dataset was cleaned out. Match each entry in this dataset with the labels you found out through clustering using the best combination of hyperparameters. Go through a few of those clustered entries and notice any patterns (or common sentiment) in the text (the \"Text\" column of this dataset) of each entry within clusters vs outside the clusters. The label of the $i$th entry in the dataset $= \\textrm{yfuzzy}[i]$. <font color='blue'>Explain any observations. Based on your observations, is the clustering successful?</font>"
   ]
  },
  {
   "cell_type": "code",
   "execution_count": 19,
   "metadata": {
    "colab": {
     "base_uri": "https://localhost:8080/"
    },
    "id": "VPZrnfyXHVHJ",
    "outputId": "5b1c3cc0-da46-44cf-fb22-22c2abfe428a"
   },
   "outputs": [
    {
     "name": "stdout",
     "output_type": "stream",
     "text": [
      "   Unnamed: 0.1  Unnamed: 0  \\\n",
      "0             0           0   \n",
      "1             1           1   \n",
      "2             2           2   \n",
      "3             3           3   \n",
      "4             4           4   \n",
      "\n",
      "                                                Text    Sentiment  \\\n",
      "0   Enjoying a beautiful day at the park!        ...   Positive     \n",
      "1   Traffic was terrible this morning.           ...   Negative     \n",
      "2   Just finished an amazing workout! 💪          ...   Positive     \n",
      "3   Excited about the upcoming weekend getaway!  ...   Positive     \n",
      "4   Trying out a new recipe for dinner tonight.  ...   Neutral      \n",
      "\n",
      "             Timestamp            User     Platform  \\\n",
      "0  2023-01-15 12:30:00   User123          Twitter     \n",
      "1  2023-01-15 08:45:00   CommuterX        Twitter     \n",
      "2  2023-01-15 15:45:00   FitnessFan      Instagram    \n",
      "3  2023-01-15 18:20:00   AdventureX       Facebook    \n",
      "4  2023-01-15 19:55:00   ChefCook        Instagram    \n",
      "\n",
      "                                     Hashtags  Retweets  Likes       Country  \\\n",
      "0   #Nature #Park                                  15.0   30.0     USA         \n",
      "1   #Traffic #Morning                               5.0   10.0     Canada      \n",
      "2   #Fitness #Workout                              20.0   40.0   USA           \n",
      "3   #Travel #Adventure                              8.0   15.0     UK          \n",
      "4   #Cooking #Food                                 12.0   25.0    Australia    \n",
      "\n",
      "   Year  Month  Day  Hour  Cluster_Label  \n",
      "0  2023      1   15    12              1  \n",
      "1  2023      1   15     8              1  \n",
      "2  2023      1   15    15              1  \n",
      "3  2023      1   15    18              1  \n",
      "4  2023      1   15    19              1  \n",
      "\n",
      "Cluster 0:\n",
      "5      Feeling grateful for the little things in lif...\n",
      "10     Just published a new blog post. Check it out!...\n",
      "13     New year, new fitness goals! 💪               ...\n",
      "20     Sipping coffee and enjoying a good book.     ...\n",
      "28     Reflecting on the importance of mental health...\n",
      "Name: Text, dtype: object\n",
      "\n",
      "Cluster 1:\n",
      "0     Enjoying a beautiful day at the park!        ...\n",
      "1     Traffic was terrible this morning.           ...\n",
      "2     Just finished an amazing workout! 💪          ...\n",
      "3     Excited about the upcoming weekend getaway!  ...\n",
      "4     Trying out a new recipe for dinner tonight.  ...\n",
      "Name: Text, dtype: object\n",
      "\n",
      "Cluster 2:\n",
      "8      Political discussions heating up on the timel...\n",
      "18     Attending a virtual conference on AI.        ...\n",
      "22     Productive day ticking off my to-do list.    ...\n",
      "26     Learning a new language for personal growth. ...\n",
      "33     Feeling inspired after attending a workshop. ...\n",
      "Name: Text, dtype: object\n"
     ]
    }
   ],
   "source": [
    "def analyzeOriginalData(original_file, yfuzzy):\n",
    "    df = pd.read_csv(original_file)\n",
    "    if len(yfuzzy) != len(df.index):\n",
    "      yfuzzy = pd.Series(yfuzzy, index=df.index[:100])\n",
    "\n",
    "    df['Cluster_Label'] = yfuzzy\n",
    "    print(df.head())  # Display first few rows with cluster labels\n",
    "\n",
    "    # Analyze patterns in text column within clusters\n",
    "    for cluster in np.unique(yfuzzy):\n",
    "        print(f\"\\nCluster {cluster}:\")\n",
    "        print(df[df['Cluster_Label'] == cluster]['Text'].head(5))  # Display sample texts in this cluster\n",
    "\n",
    "# Example usage:\n",
    "analyzeOriginalData('SMData.csv', yfuzzy)\n"
   ]
  },
  {
   "cell_type": "markdown",
   "metadata": {
    "id": "NCEhsZ63M4d9"
   },
   "source": [
    "Unsuccessful Clustering: The posts within each cluster appear random or do not share any noticeable commonalities, the clustering might not have been effective, suggesting the need for further tuning of hyperparameters or possibly reconsidering the features used for clustering."
   ]
  },
  {
   "cell_type": "code",
   "execution_count": null,
   "metadata": {},
   "outputs": [],
   "source": []
  }
 ],
 "metadata": {
  "accelerator": "TPU",
  "colab": {
   "gpuType": "V28",
   "provenance": []
  },
  "kernelspec": {
   "display_name": "Python 3 (ipykernel)",
   "language": "python",
   "name": "python3"
  },
  "language_info": {
   "codemirror_mode": {
    "name": "ipython",
    "version": 3
   },
   "file_extension": ".py",
   "mimetype": "text/x-python",
   "name": "python",
   "nbconvert_exporter": "python",
   "pygments_lexer": "ipython3",
   "version": "3.8.0"
  }
 },
 "nbformat": 4,
 "nbformat_minor": 1
}

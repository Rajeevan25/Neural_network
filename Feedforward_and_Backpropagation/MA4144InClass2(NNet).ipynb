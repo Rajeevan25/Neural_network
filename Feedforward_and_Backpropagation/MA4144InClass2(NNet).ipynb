{
 "cells": [
  {
   "cell_type": "markdown",
   "id": "56157fb7-11e7-4151-8a9c-e95c4a844924",
   "metadata": {
    "deletable": false,
    "editable": false
   },
   "source": [
    "# <center>Feedforward and Backpropagation</center>\n",
    "## <center>Inclass Project 2 - MA4144</center>\n",
    "\n",
    "This project contains 10 tasks/questions to be completed, some require written answers. Open a markdown cell below the respective question that require written answers and provide (type) your answers. Questions that required written answers are given in blue fonts. Almost all written questions are open ended, they do not have a correct or wrong answer. You are free to give your opinions, but please provide related answers within the context.\n",
    "\n",
    "After finishing project run the entire notebook once and **save the notebook as a pdf** (File menu -> Save and Export Notebook As -> PDF). You are **required to upload this PDF on moodle**.\n",
    "\n",
    "***"
   ]
  },
  {
   "cell_type": "markdown",
   "id": "37c45f68-8516-4bd3-80b3-fa38c9fc01bf",
   "metadata": {
    "deletable": false,
    "editable": false
   },
   "source": [
    "## Outline of the project\n",
    "\n",
    "The aim of the project is to build a Multi Layer perceptron (MLP) model from scratch for binary classification. That is given an input $x$ output the associated class label $0$ or $1$.\n",
    "\n",
    "In particular, we will classify images of handwritten digits ($0, 1, 2, \\cdots, 9$). For example, given a set of handwritten digit images that only contain two digits (Eg: $1$ and $5$) the model will classify the images based on the written digit.\n",
    "\n",
    "For this we will use the MNIST dataset (collection of $28 \\times 28$ images of handwritten digits) - you can find additional information about MNIST [here](https://en.wikipedia.org/wiki/MNIST_database).\n",
    "\n",
    "<img src=\"https://upload.wikimedia.org/wikipedia/commons/f/f7/MnistExamplesModified.png\" width=\"250\">\n",
    "\n",
    "***\n"
   ]
  },
  {
   "cell_type": "markdown",
   "id": "ba8a0988-42a0-4e8f-abf5-2bc3ddf18304",
   "metadata": {
    "deletable": false,
    "editable": false
   },
   "source": [
    "Use the below cell to use any include any imports"
   ]
  },
  {
   "cell_type": "code",
   "execution_count": 35,
   "id": "aac8649a-c1fe-4236-8ebd-ce3faa43ee3b",
   "metadata": {},
   "outputs": [],
   "source": [
    "import numpy as np\n",
    "from keras.datasets import mnist\n",
    "import matplotlib.pyplot as plt\n",
    "from sklearn.metrics import accuracy_score"
   ]
  },
  {
   "cell_type": "markdown",
   "id": "e64c6025-f0e5-440e-ab25-fb22393f186c",
   "metadata": {
    "deletable": false,
    "editable": false
   },
   "source": [
    "## Section 1: Preparing the data"
   ]
  },
  {
   "cell_type": "code",
   "execution_count": 36,
   "id": "41a0c01b-d4ce-47c6-ad39-80ea85a59543",
   "metadata": {},
   "outputs": [
    {
     "name": "stdout",
     "output_type": "stream",
     "text": [
      "(60000, 28, 28)\n",
      "(10000, 28, 28)\n",
      "(60000,)\n",
      "(10000,)\n"
     ]
    }
   ],
   "source": [
    "#Load the dataset as training and testing, then print out the shapes of the data matrices\n",
    "\n",
    "(train_X, train_y), (test_X, test_y) = mnist.load_data()\n",
    "print(train_X.shape)\n",
    "print(test_X.shape)\n",
    "print(train_y.shape)\n",
    "print(test_y.shape)"
   ]
  },
  {
   "cell_type": "markdown",
   "id": "1135bf15-9a80-4d14-8fb4-e30c9e53a4cf",
   "metadata": {
    "deletable": false,
    "editable": false
   },
   "source": [
    "**Q1.** In the following cell write code to display $5$ random images in train_X and it's corresponding label in train_y. Each time it is run, you should get a different set of images. The imshow function in the matplotlib library could be useful. Display them as [grayscale images](https://en.wikipedia.org/wiki/Grayscale)."
   ]
  },
  {
   "cell_type": "code",
   "execution_count": 37,
   "id": "dad09af0-90d7-4590-922e-d114755455a4",
   "metadata": {},
   "outputs": [
    {
     "data": {
      "image/png": "[encoded data removed]",
      "text/plain": [
       "<Figure size 1000x500 with 5 Axes>"
      ]
     },
     "metadata": {},
     "output_type": "display_data"
    }
   ],
   "source": [
    "#TODO Code to display 5 random handritten images from train_X and corresponting labels from train_y\n",
    "import random\n",
    "num_images = 5\n",
    "\n",
    "random_indices = random.sample(range(train_X.shape[0]), num_images)\n",
    "plt.figure(figsize=(10, 5))  # Set the figure size\n",
    "\n",
    "for i, idx in enumerate(random_indices):\n",
    "    plt.subplot(1, num_images, i+1)  \n",
    "    plt.imshow(train_X[idx], cmap='gray')  \n",
    "    plt.title(f\"Label: {train_y[idx]}\")  \n",
    "    plt.axis('off') \n",
    "\n",
    "plt.tight_layout() \n",
    "plt.show()\n"
   ]
  },
  {
   "cell_type": "markdown",
   "id": "580fd94a-370c-468b-ba0f-01c2506d4810",
   "metadata": {
    "deletable": false,
    "editable": false
   },
   "source": [
    "**Q2.** Given two digits $d_1$ and $d_2$, both between $0$ and $9$, in the following cell fill in the function body to extract all the samples corresponding to $d_1$ or $d_2$ only, from the dataset $X$ and labels $y$. You can use the labels $y$ to filter the dataset. Assume that the $i$th image $X[i]$ in $X$ is given by $y[i]$. The function should return the extracted samples $X_{extracted}$ and corresponding labels $y_{extracted}$. Avoid using for loops as much as possible, infact you do not need any for loops. numpy.where function should be useful."
   ]
  },
  {
   "cell_type": "code",
   "execution_count": 38,
   "id": "8cd468f8-f28e-405d-aa0a-ac97470615f2",
   "metadata": {},
   "outputs": [],
   "source": [
    "def extract_digits(X, y, d1, d2):\n",
    "\n",
    "    assert d1 in range(0, 10), \"d1 should be a number between 0 and 9 inclusive\"\n",
    "    assert d2 in range(0, 10), \"d2 should be a number between 0 and 9 inclusive\"\n",
    "    \n",
    "    #TODO\n",
    "    # Get the indices where labels are d1 or d2\n",
    "    indices = np.where((y == d1) | (y == d2))[0]\n",
    "    \n",
    "    # Extract the corresponding samples and labels\n",
    "    X_extracted = X[indices]\n",
    "    y_extracted = y[indices]\n",
    "\n",
    "    return (X_extracted, y_extracted)"
   ]
  },
  {
   "cell_type": "markdown",
   "id": "29123736-f5a7-4981-afd8-cdb69bae3f7d",
   "metadata": {
    "deletable": false,
    "editable": false
   },
   "source": [
    "**Q3.** Both the training dataset train_X and test_y is a 3 dimensional numpy array, each image occupies 2 dimensions. For convenience of processing data we usually comvert each $28 \\times 28$ image matrix to a vector with $784$ entries. We call this process **vectorize images**.\n",
    "\n",
    "Once we vectorize the images, the vectorized data set would be structured as follows: $i$th row will correspond to a single image and $j$th column will correspond to the $j$th pixel value of each vectorized image. However going along with the convention we discussed in the lecture, the input to the MLP model will require that the columns correspond to individual images. Hence we also require a transpose of the vectorized results.\n",
    "\n",
    "The pixel values in the images will range from $0$ to $255$. Normalize the pixel values between $0$ and $1$, by dividing each pixel value of each image by the maximum pixel value of that image. Simply divide each column of the resulting matrix above by the max of each column. \n",
    "\n",
    "<center><img src=\"https://encrypted-tbn0.gstatic.com/images?q=tbn:ANd9GcTdN_8m9FEqjqAB07obTmB6gNc7S2rSoGBYaA&s\"></center>\n",
    "\n",
    "Given a dataset $X$ of size $N \\times 28 \\times 28$, in the following cell fill in the function to do the following in order;\n",
    "1. Vectorize the dataset resulting in dataset of size $N \\times 784$.\n",
    "2. Transpose the vectorized result.\n",
    "3. Normalize the pixel values of each image.\n",
    "4. Finally return the vectorized, transposed and normalized dataset $X_{transformed}$.\n",
    "\n",
    "Again, avoid for loops, functions such as numpy.reshape, numpy.max etc should be useful."
   ]
  },
  {
   "cell_type": "code",
   "execution_count": 39,
   "id": "eb50027a-5a36-4279-9972-a2bf449bef3d",
   "metadata": {},
   "outputs": [],
   "source": [
    "def vectorize_images(X):\n",
    "\n",
    "    #TODO\n",
    "    # Vectorize the images\n",
    "    X_vectorized = X.reshape(X.shape[0], -1)  \n",
    "    \n",
    "    # Transpose the vectorized result\n",
    "    X_transposed = X_vectorized.T  \n",
    "    \n",
    "    #  Normalize the pixel values (divide each column by its max value)\n",
    "    X_normalized = X_transposed / X_transposed.max(axis=0)\n",
    "\n",
    "    return(X_vectorized)"
   ]
  },
  {
   "cell_type": "markdown",
   "id": "fbc428f8-0eec-4eb2-9df2-53cd924c9c9d",
   "metadata": {
    "deletable": false,
    "editable": false
   },
   "source": [
    "**Q4.** In the following cell write code to;\n",
    "\n",
    "1. Extract images of the digits $d_1 = 1$ and $d_2 = 5$ with their corresponding labels for both the training set (train_X, train_y) and testing set (test_X, test_y) separately.\n",
    "2. Then vectorize the data, tranpose the result and normlize the images.\n",
    "3. Store the results after the final transformations in numpy arrays train_X_1_5, train_y_1_5, test_X_1_5, test_y_1_5\n",
    "4. Our MLP will output only class labels $0$ and $1$ (not $1$ and $5$), so create numpy arrays to store the class labels as follows:\n",
    "   $d_1 = 1$ -> class label = 0 and $d_2 = 5$ -> class label = 1. Store them in the arrays named train_class_1_5, test_class_1_5.\n",
    "\n",
    "Use the above functions you implemented above to complete this task. In addtion, numpy.where could be useful. Avoid for loops as much as possible."
   ]
  },
  {
   "cell_type": "code",
   "execution_count": 40,
   "id": "cbef3fe5",
   "metadata": {},
   "outputs": [],
   "source": [
    "# Extract images and labels for digits 1 and 5 from training and testing sets\n",
    "train_X_1_5, train_y_1_5 = extract_digits(train_X, train_y, 1, 5)\n",
    "test_X_1_5, test_y_1_5 = extract_digits(test_X, test_y, 1, 5)\n",
    "\n",
    "#  Vectorize, transpose, and normalize the images\n",
    "train_X_1_5 = vectorize_images(train_X_1_5)\n",
    "test_X_1_5 = vectorize_images(test_X_1_5)\n",
    "\n",
    "# Convert the labels\n",
    "train_class_1_5 = np.where(train_y_1_5 == 1, 0, 1)  # Convert 1 -> 0 and 5 -> 1\n",
    "test_class_1_5 = np.where(test_y_1_5 == 1, 0, 1)    # Convert 1 -> 0 and 5 -> 1"
   ]
  },
  {
   "cell_type": "markdown",
   "id": "8d99382b-43b7-4375-8825-4b7d267b6dac",
   "metadata": {
    "deletable": false,
    "editable": false
   },
   "source": [
    "## Section 2: Implementing MLP from scratch with training algorithms."
   ]
  },
  {
   "cell_type": "markdown",
   "id": "5864b18e-cf2e-4da6-a3df-20b8bd84633f",
   "metadata": {
    "deletable": false,
    "editable": false
   },
   "source": [
    "Now we will implement code to build a customizable MLP model. The hidden layers will have the **Relu activation function** and the final output layer will have **Sigmoid activation function**."
   ]
  },
  {
   "cell_type": "markdown",
   "id": "3247c43d-7e37-4e72-9232-5e01898c39a8",
   "metadata": {
    "deletable": false,
    "editable": false
   },
   "source": [
    "**Q5.** Recall the following about the activation functions:\n",
    "1. Sigmoid activation: $y = \\sigma(z) = \\frac{1}{1 + e^{-z}}$.\n",
    "2. Derivative of Sigmoid: $y' = \\sigma'(z) = \\sigma(z) (1 - \\sigma(z)) = y(1-y)$\n",
    "3. ReLu activation: $y = ReLu(z) = max(0, z)$\n",
    "4. Derivative of ReLu: $y' = ReLu'(z) = \\begin{cases} 0 \\; \\textrm{if } z < 0 \\\\ 1 \\; \\textrm{otherwise} \\end{cases} = \\begin{cases} 0 \\; \\textrm{if } y = 0 \\\\ 1 \\; \\textrm{otherwise} \\end{cases}$\n",
    "\n",
    "In the following cell implement the functions to compute activation functions Sigmoid and ReLu given $z$ and derivatives of the Sigmoid and ReLu activation functions given $y$. Note that the input to the derivative functions is $y$ not $z$.\n",
    "\n",
    "In practice the input will not be just single numbers, but matrices. So functions or derivatives should be applied elementwise on matrices. Again avoid for loops, use the power of numpy arrays - search for numpy's capability of doing elementwise computations.\n",
    "\n",
    "Important: When implementing the sigmoid function make sure you handle overflows due to $e^{-z}$ being too large. To avoid you can choose to set the sigmoid value to 'the certain appropriate value' if $z$ is less than a certain good enough negative threshold. If you do not handle overflows, the entire result will be useless fince the MLP will just output Nan (not a number) for evry input at the end."
   ]
  },
  {
   "cell_type": "code",
   "execution_count": 41,
   "id": "ac42dde5-2b7d-4fc2-a5bc-4d396822e995",
   "metadata": {},
   "outputs": [],
   "source": [
    "def sigmoid(Z):\n",
    "\n",
    "    #TODO\n",
    "    # Handling overflow by clipping the input to avoid large negative numbers\n",
    "    Z = np.clip(Z, -500, 500)\n",
    "    sigma = 1 / (1 + np.exp(-Z))  # Sigmoid function    \n",
    "    return(sigma)\n",
    "\n",
    "def deriv_sigmoid(Y):\n",
    "\n",
    "    #TODO\n",
    "    sigma_prime = Y * (1 - Y)  # Derivative of sigmoid: σ'(z) = σ(z) * (1 - σ(z))\n",
    "    return(sigma_prime)\n",
    "\n",
    "def ReLu(Z):\n",
    "\n",
    "    #TODO\n",
    "    relu = np.maximum(0, Z)\n",
    "    return(relu)\n",
    "\n",
    "def deriv_ReLu(Y):\n",
    "\n",
    "    #TODO\n",
    "    relu_prime = np.where(Y > 0, 1, 0)\n",
    "    return(relu_prime)\n"
   ]
  },
  {
   "cell_type": "markdown",
   "id": "88ca012e-5c82-4689-8170-28f6110cc9b5",
   "metadata": {},
   "source": [
    "**Q6.** The following piece of code defines a simple MLP architecture as a Python class and subsequent initialization of a MLP model. <font color='blue'>Certain lines of code contains commented line numbers. Write a short sentence for each such line explaining its purpose. Feel free to refer to the lecture notes or any resources to answers these question. In addition, explain what the Y, Z, W variables refer to and their purpose</font>"
   ]
  },
  {
   "cell_type": "code",
   "execution_count": 42,
   "id": "7985eb85-6a89-4d01-b6cf-d58cb8b4d23f",
   "metadata": {},
   "outputs": [],
   "source": [
    "#Y: Stores the activation outputs of neurons after applying the activation function.\n",
    "#Z: Stores the pre-activation values before applying the activation function.\n",
    "#W: Stores the weight matrices that connect neurons between layers.\n",
    "class NNet:\n",
    "    def __init__(self, input_size = 784, output_size = 1, batch_size = 1000, hidden_layers = [500, 250, 50]):\n",
    "        self.Y = []\n",
    "        self.Z = []\n",
    "        self.W = []\n",
    "        self.input_size = input_size\n",
    "        self.output_size = output_size\n",
    "        self.batch_size = batch_size\n",
    "        self.hidden_layers = hidden_layers\n",
    "\n",
    "        layers = [input_size] + hidden_layers + [output_size]\n",
    "        L = len(hidden_layers) + 1\n",
    "    \n",
    "        for i in range(1, L + 1):\n",
    "            self.Y.append(np.zeros((layers[i], batch_size)))                        #line1 - Initializes the matrix to store the activation outputs of each layer after applying the activation function during forward propagation.\n",
    "            self.Z.append(np.zeros((layers[i], batch_size)))                        #Line2 - Initializes the matrix to store the pre-activation values (linear combinations of inputs and weights) before applying the activation function.\n",
    "            self.W.append(2*(np.random.rand(layers[i], layers[i-1] + 1) - 0.5))     #Line3 - Initializes the weight matrix with random values to connect neurons between layers, including bias terms."
   ]
  },
  {
   "cell_type": "markdown",
   "id": "7854a0e4-9b83-4f52-8b59-3e64af141209",
   "metadata": {},
   "source": [
    "**Answers** (to write answers edit this cell)\n",
    "\n",
    "(i) What does the Y, Z, W variables refer to and their purpose?\n",
    "\n",
    "(ii) Line1: Explanation\n",
    "\n",
    "(iii) Line2: Explanation\n",
    "\n",
    "(iv) Line3: Explanation"
   ]
  },
  {
   "cell_type": "markdown",
   "id": "7ee71406-c0f7-4114-9d9c-bf25fe6d208a",
   "metadata": {
    "deletable": false,
    "editable": false
   },
   "source": [
    "**Q7.** Now we will implement the feedforward algorithm. Recall from the lectures that for each layer $l$ there is input $Y^{(l-1)}$ from the previous layer if $l > 1$ and input data $X$ if $l = 1$. Then we compute $Z^{(l)}$ using the weight matrix $W^{(l)}$ as follows from matrix multiplication:\n",
    "\n",
    "$Z^{(l)} = W^{(l)} Y^{(l-1)}$\n",
    "\n",
    "Make sure that during multiplication you add an additional row of one's to $Y^{(l-1)}$ to accommodate the bias term. However, the rows of ones should not permanently remain on $Y^{(l-1)}$. <font color='blue'>Explain what the bias term is and how adding a row of one's help with the bias terms.</font> During definition above the weight matrices are initialised to afford this extra bias term, so no change to either $Z^{(l)}$ or $W^{(l)}$ is needed.\n",
    "\n",
    "Next compute $Y^{(l)}$, the output of layer $l$ by activation through sigmoid.\n",
    "\n",
    "$Y^{(l)} = \\sigma(Z^{(l)})$\n",
    "\n",
    "The implemented feedforward algorithm should take in a NNet model and an input matrix $X$ and output the modified MLP model - the $Y$'s and $Z$'s computed should be stored in the model for the backpropagation algorithm.\n",
    "\n",
    "As usual avoid for loops as much as possible, use the power of numpy. However, you may use a for loop to iterate through the layers of the model."
   ]
  },
  {
   "cell_type": "code",
   "execution_count": 43,
   "id": "c41a778a-0d06-4295-ac80-3ea6bfbad9f0",
   "metadata": {},
   "outputs": [],
   "source": [
    "def feedforward(model, X):\n",
    "    L = len(model.hidden_layers) + 1\n",
    "    model.Y = [None] * L\n",
    "    model.Z = [None] * L\n",
    "    model.Y[0] = X\n",
    "\n",
    "    for l in range(1, L):\n",
    "        # Add a row of ones to accommodate the bias term\n",
    "        Y_prev = np.vstack([model.Y[l-1], np.ones((1, model.Y[l-1].shape[1]))])\n",
    "        \n",
    "        model.Z[l] = np.dot(model.W[l-1], Y_prev)\n",
    "        \n",
    "        if l < L - 1:\n",
    "            model.Y[l] = ReLu(model.Z[l])\n",
    "        else:\n",
    "            model.Y[l] = sigmoid(model.Z[l])\n",
    "\n",
    "    return model"
   ]
  },
  {
   "cell_type": "markdown",
   "id": "cbeea889-4e78-4bfc-b126-6d5d11ea571e",
   "metadata": {
    "deletable": false,
    "editable": false
   },
   "source": [
    "**Answer** (to write answers edit this cell)\n",
    "\n",
    "Explain what the bias term is and how adding a row of one's help with the bias terms."
   ]
  },
  {
   "cell_type": "markdown",
   "id": "f5b4c037-df9a-49eb-9519-51b86555b33c",
   "metadata": {
    "deletable": false,
    "editable": false
   },
   "source": [
    "**Q8.** Now we will implement the backpropagation algorithm. The cost function $C$ at the end is given by the square loss.\n",
    "\n",
    "$C = \\frac{1}{2} ||Y^{(L)} - Y||^{2}$, where $Y^{(L)}$ is the final output vector of the feedforward algorithm and $Y$ is the actual label vector associated with the input $X$.\n",
    "\n",
    "At each layer $l = 1, 2, \\cdots, L$ we compute the following (note that the gradients are matrices with the same dimensions as the variable to which we derivating with respect to):\n",
    "\n",
    "1. Gradient of $C$ with respect to $Z^{(l)}$ as <br> $\\frac{\\partial C}{\\partial Z^{(l)}} = deriv(A^{(l)}(Z^{(l)})) \\odot \\frac{\\partial C}{\\partial Y^{(L)}} $, <br> where $A^{(l)}$ is the activation function of the $l$th layer, and we use the derivative of that here. The $\\odot$ refers to the elementwise multiplication.\n",
    "\n",
    "2. Gradient of $C$ with respect to $W^{(l)}$ as <br> $\\frac{\\partial C}{\\partial W^{(l)}} = \\frac{\\partial C}{\\partial Z^{(l)}} (Y^{(l-1)})^{T}$ <br> this is entirely matrix multiplication.\n",
    "\n",
    "3. Gradient of $C$ with respect to $Y^{(l-1)}$ as <br> $\\frac{\\partial C}{\\partial Y^{(l-1)}} = (W^{(l)})^{T} \\frac{\\partial C}{\\partial Z^{(l)}}$ <br> this is also entirely matrix multiplication.\n",
    "\n",
    "4. Update weights by: <br> $W^{(l)} \\leftarrow W^{(l)} - \\eta \\frac{\\partial C}{\\partial W^{(l)}}$, <br> where $\\eta > 0$ is the learning rate.\n",
    "\n",
    "The loss derivative (the gradient of $C$ with respect to $Y^{(L)}$) at the last layer is given by:\n",
    "\n",
    "$\\frac{\\partial C}{\\partial Y^{(L)}} = Y^{(L)} - Y$\n",
    "\n",
    "By convention we consider $Y^{(0)} = X$, the input data.\n",
    "\n",
    "Based on the backpropagation algorithm implement the backpropagation method in the following cell. Remember to temporarily add a row of ones to $Y^{(l-1)}$ when computing $\\frac{\\partial C}{\\partial W^{(l)}}$ as we discussed back in the feedforward algorithm. Make sure you avoid for loops as much as possible.\n",
    "\n",
    "The function takes in a NNet model, input data $X$ and the corresponding class labels $Y$. learning rate can be set as desired."
   ]
  },
  {
   "cell_type": "code",
   "execution_count": 44,
   "id": "d958af3f-5a72-462d-844f-aba8ce5b03c8",
   "metadata": {},
   "outputs": [],
   "source": [
    "def backpropagation(model, X, Y, eta=0.01):\n",
    "    L = len(model.Y)\n",
    "    m = X.shape[1]  # number of examples\n",
    "    \n",
    "    # Compute the output layer error\n",
    "    dZ = model.Y[-1] - Y\n",
    "    \n",
    "    for l in reversed(range(1, L)):\n",
    "        # Add bias term to Y[l-1]\n",
    "        Y_with_bias = np.vstack([model.Y[l-1], np.ones((1, m))])\n",
    "        \n",
    "        # Compute gradients\n",
    "        dW = (1/m) * np.dot(dZ, Y_with_bias.T)\n",
    "        db = (1/m) * np.sum(dZ, axis=1, keepdims=True)\n",
    "        \n",
    "        # Update weights and biases\n",
    "        model.W[l-1] -= eta * dW\n",
    "        model.W[l-1][:, -1] -= eta * db.flatten()  # Update bias terms\n",
    "        \n",
    "        if l > 1:\n",
    "            # Compute error for the next layer back\n",
    "            dZ = np.dot(model.W[l-1][:, :-1].T, dZ) * (model.Y[l-1] > 0)  # ReLU derivative\n",
    "    \n",
    "    return model"
   ]
  },
  {
   "cell_type": "markdown",
   "id": "a2fad553-1ba4-4bee-b04b-249b9e04c6a9",
   "metadata": {
    "deletable": false,
    "editable": false
   },
   "source": [
    "**Q9.** Now implement the training algorithm.\n",
    "\n",
    "The training method takes in training data $X$, actual label $Y$, number of epochs, batch_size, learning rate $\\eta > 0$. The training will happen in epochs. For each epoch, permute the data columns of both $X$ and $Y$, then divide both $X$ and $Y$ into mini batches each with the given batch size. Then run the feedforward and backpropagation for each such batch iteratively.\n",
    "\n",
    "At the end of each iteration, keep trach of the cost $C$ and the $l_2$-norm of change in each weight matrix $W^{(l)}$.\n",
    "\n",
    "At the end of the last epoch, plot the variation cost $C$ and change in weight matrices. Then return the trained model.\n",
    "\n"
   ]
  },
  {
   "cell_type": "code",
   "execution_count": 53,
   "id": "fa4070ea-4a6b-4cba-b882-fa2ea79a9247",
   "metadata": {},
   "outputs": [],
   "source": [
    "def train_NNet(X, Y, epochs=20, batch_size=1000, eta=0.01):\n",
    "    num_samples = X.shape[1]\n",
    "    input_size = X.shape[0]\n",
    "    \n",
    "    print(f\"Training data shape: {X.shape}\")\n",
    "    print(f\"Training labels shape: {Y.shape}\")\n",
    "    \n",
    "    # Initialize the model\n",
    "    model = NNet(input_size=input_size, hidden_layers=[500, 250], batch_size=batch_size)\n",
    "    \n",
    "    print(f\"Model input size: {model.input_size}\")\n",
    "    print(f\"Model hidden layers: {model.hidden_layers}\")\n",
    "    print(f\"Model output size: {model.output_size}\")\n",
    "    \n",
    "    cost_history = []\n",
    "    weight_changes = []\n",
    "    \n",
    "    for epoch in range(epochs):\n",
    "        # Shuffle data\n",
    "        indices = np.arange(num_samples)\n",
    "        np.random.shuffle(indices)\n",
    "        X = X[:, indices]\n",
    "        Y = Y[indices]\n",
    "        \n",
    "        # Process data in mini-batches\n",
    "        for i in range(0, num_samples, batch_size):\n",
    "            X_batch = X[:, i:i+batch_size]\n",
    "            Y_batch = Y[i:i+batch_size]\n",
    "            \n",
    "            print(f\"Batch shapes - X: {X_batch.shape}, Y: {Y_batch.shape}\")\n",
    "            \n",
    "            # Feedforward\n",
    "            model = feedforward(model, X_batch)\n",
    "            \n",
    "            # Backpropagation\n",
    "            model = backpropagation(model, X_batch, Y_batch, eta)\n",
    "        \n",
    "        # Compute cost for the entire dataset\n",
    "        model = feedforward(model, X)\n",
    "        Y_pred = model.Y[-1]\n",
    "        cost = np.mean(np.square(Y_pred - Y))\n",
    "        cost_history.append(cost)\n",
    "        \n",
    "        # Compute weight changes\n",
    "        weight_change = np.sum([np.linalg.norm(w) for w in model.W])\n",
    "        weight_changes.append(weight_change)\n",
    "        \n",
    "        print(f\"Epoch {epoch + 1}/{epochs}, Cost: {cost}, Weight change: {weight_change}\")\n",
    "    \n",
    "    # Plot cost history\n",
    "    plt.figure()\n",
    "    plt.plot(cost_history)\n",
    "    plt.title('Cost History')\n",
    "    plt.xlabel('Epoch')\n",
    "    plt.ylabel('Cost')\n",
    "    plt.show()\n",
    "    \n",
    "    # Plot weight changes\n",
    "    plt.figure()\n",
    "    plt.plot(weight_changes)\n",
    "    plt.title('Weight Change History')\n",
    "    plt.xlabel('Epoch')\n",
    "    plt.ylabel('Weight Change')\n",
    "    plt.show()\n",
    "    \n",
    "    return (model, input_size)"
   ]
  },
  {
   "cell_type": "markdown",
   "id": "2cd20299-a129-4d1d-a406-84e1a4dba621",
   "metadata": {
    "deletable": false,
    "editable": false
   },
   "source": [
    "## Section 3: Evaluation using test data"
   ]
  },
  {
   "cell_type": "markdown",
   "id": "d954c37c-f1b7-4e87-aedd-cf9e7624f612",
   "metadata": {
    "deletable": false,
    "editable": false
   },
   "source": [
    "The following function will evaluate then return an accuracy score and the predicted labels for your model. Do not change anything here."
   ]
  },
  {
   "cell_type": "code",
   "execution_count": 54,
   "id": "977dcbb8-1b5c-4f49-89f6-9bd90833957b",
   "metadata": {},
   "outputs": [],
   "source": [
    "def test_model(test_data, test_labels, model, d1, d2):\n",
    "    L = len(model.hidden_layers) + 1\n",
    "    Y = test_data\n",
    "    \n",
    "    print(f\"Test data shape: {test_data.shape}\")\n",
    "    print(f\"Test labels shape: {test_labels.shape}\")\n",
    "    \n",
    "    for i in range(L):\n",
    "        print(f\"Layer {i} - Weight shape: {model.W[i].shape}, Input shape: {Y.shape}\")\n",
    "        \n",
    "        # Ensure Y has the correct number of features\n",
    "        if i == 0 and Y.shape[0] != model.W[i].shape[1] - 1:\n",
    "            print(f\"Reshaping input data from {Y.shape} to ({model.W[i].shape[1] - 1}, {Y.shape[1]})\")\n",
    "            Y = Y.reshape(model.W[i].shape[1] - 1, -1)\n",
    "        \n",
    "        Y_with_bias = np.vstack([Y, np.ones((1, Y.shape[1]))])\n",
    "        Z = np.dot(model.W[i], Y_with_bias)\n",
    "        \n",
    "        if i < L - 1:\n",
    "            Y = ReLu(Z)\n",
    "        else:\n",
    "            Y = sigmoid(Z)\n",
    "    \n",
    "    Y = Y.flatten()\n",
    "    Y = np.where(Y >= 0.5, 1, 0)\n",
    "    Y_predicted = np.where(Y == 0, d1, d2)\n",
    "    \n",
    "    acc = accuracy_score(test_labels, Y_predicted)\n",
    "    return acc, Y_predicted"
   ]
  },
  {
   "cell_type": "markdown",
   "id": "ab6f1db0-8f5f-442c-84f1-578c77b99537",
   "metadata": {
    "deletable": false,
    "editable": false
   },
   "source": [
    "**Q10.** Use this test_model function to evaluate your model with the $1$ and $5$ digits. An accuracy $>= 99%$ is achievable. Test with different batch sizes, $\\eta$ values and hidden layers. Find which of those hyperparameters gives the best test accuracy. <font color='blue'>Document the hyperparameter values that gives the best testing accuracy and that best accuracy. Plot a confusion matrix and comment on your observations with reasons. Also, look into the nature of the plots that result fom the training procedure, see how they vary with the hyperparameters and provide your ideas on the observations. Then do the same with a few other pairs of digits $d_1, d_2$. Especially, try $d_1 = 1, d_2 = 7$. Comment on your observations and explain possible reasons</font>."
   ]
  },
  {
   "cell_type": "code",
   "execution_count": 55,
   "id": "b0561199-92cc-4344-8509-c8ab798c33ab",
   "metadata": {},
   "outputs": [
    {
     "name": "stdout",
     "output_type": "stream",
     "text": [
      "Training data shape: (12163, 784)\n",
      "Training labels shape: (12163,)\n",
      "Model input size: 12163\n",
      "Model hidden layers: [500, 250]\n",
      "Model output size: 1\n",
      "Batch shapes - X: (12163, 500), Y: (500,)\n",
      "Batch shapes - X: (12163, 284), Y: (284,)\n",
      "Epoch 1/20, Cost: 7.081632653061225, Weight change: 7506366518788.924\n",
      "Batch shapes - X: (12163, 500), Y: (500,)\n",
      "Batch shapes - X: (12163, 284), Y: (284,)\n",
      "Epoch 2/20, Cost: 7.081632653061225, Weight change: 3.81642215969798e+24\n",
      "Batch shapes - X: (12163, 500), Y: (500,)\n",
      "Batch shapes - X: (12163, 284), Y: (284,)\n",
      "Epoch 3/20, Cost: 7.081632653061225, Weight change: 1.7893459220407887e+36\n",
      "Batch shapes - X: (12163, 500), Y: (500,)\n",
      "Batch shapes - X: (12163, 284), Y: (284,)\n",
      "Epoch 4/20, Cost: 7.081632653061225, Weight change: 8.824557567758252e+47\n",
      "Batch shapes - X: (12163, 500), Y: (500,)\n",
      "Batch shapes - X: (12163, 284), Y: (284,)\n",
      "Epoch 5/20, Cost: 7.081632653061225, Weight change: 4.000870250443763e+59\n",
      "Batch shapes - X: (12163, 500), Y: (500,)\n",
      "Batch shapes - X: (12163, 284), Y: (284,)\n",
      "Epoch 6/20, Cost: 7.081632653061225, Weight change: 1.9051036168250647e+71\n",
      "Batch shapes - X: (12163, 500), Y: (500,)\n",
      "Batch shapes - X: (12163, 284), Y: (284,)\n",
      "Epoch 7/20, Cost: 7.081632653061225, Weight change: 8.280895739954299e+82\n",
      "Batch shapes - X: (12163, 500), Y: (500,)\n",
      "Batch shapes - X: (12163, 284), Y: (284,)\n",
      "Epoch 8/20, Cost: 7.081632653061225, Weight change: 3.482912752924084e+94\n",
      "Batch shapes - X: (12163, 500), Y: (500,)\n",
      "Batch shapes - X: (12163, 284), Y: (284,)\n",
      "Epoch 9/20, Cost: 7.081632653061225, Weight change: 1.6346306546513496e+106\n",
      "Batch shapes - X: (12163, 500), Y: (500,)\n",
      "Batch shapes - X: (12163, 284), Y: (284,)\n",
      "Epoch 10/20, Cost: 7.081632653061225, Weight change: 6.768854133077987e+117\n",
      "Batch shapes - X: (12163, 500), Y: (500,)\n",
      "Batch shapes - X: (12163, 284), Y: (284,)\n",
      "Epoch 11/20, Cost: 7.081632653061225, Weight change: 3.4408491719870025e+129\n",
      "Batch shapes - X: (12163, 500), Y: (500,)\n",
      "Batch shapes - X: (12163, 284), Y: (284,)\n",
      "Epoch 12/20, Cost: 7.081632653061225, Weight change: 1.4547393793990555e+141\n",
      "Batch shapes - X: (12163, 500), Y: (500,)\n",
      "Batch shapes - X: (12163, 284), Y: (284,)\n",
      "Epoch 13/20, Cost: 7.081632653061225, Weight change: 6.02030525116834e+152\n",
      "Batch shapes - X: (12163, 500), Y: (500,)\n",
      "Batch shapes - X: (12163, 284), Y: (284,)\n",
      "Epoch 14/20, Cost: 7.081632653061225, Weight change: inf\n",
      "Batch shapes - X: (12163, 500), Y: (500,)\n",
      "Batch shapes - X: (12163, 284), Y: (284,)\n",
      "Epoch 15/20, Cost: 7.081632653061225, Weight change: inf\n",
      "Batch shapes - X: (12163, 500), Y: (500,)\n",
      "Batch shapes - X: (12163, 284), Y: (284,)\n",
      "Epoch 16/20, Cost: 7.081632653061225, Weight change: inf\n",
      "Batch shapes - X: (12163, 500), Y: (500,)\n",
      "Batch shapes - X: (12163, 284), Y: (284,)\n",
      "Epoch 17/20, Cost: 7.081632653061225, Weight change: inf\n",
      "Batch shapes - X: (12163, 500), Y: (500,)\n",
      "Batch shapes - X: (12163, 284), Y: (284,)\n",
      "Epoch 18/20, Cost: 7.081632653061225, Weight change: inf\n",
      "Batch shapes - X: (12163, 500), Y: (500,)\n",
      "Batch shapes - X: (12163, 284), Y: (284,)\n",
      "Epoch 19/20, Cost: 7.081632653061225, Weight change: inf\n",
      "Batch shapes - X: (12163, 500), Y: (500,)\n",
      "Batch shapes - X: (12163, 284), Y: (284,)\n",
      "Epoch 20/20, Cost: 7.081632653061225, Weight change: inf\n"
     ]
    },
    {
     "data": {
      "image/png": "[encoded data removed]",
      "text/plain": [
       "<Figure size 640x480 with 1 Axes>"
      ]
     },
     "metadata": {},
     "output_type": "display_data"
    },
    {
     "data": {
      "image/png": "[encoded data removed]",
      "text/plain": [
       "<Figure size 640x480 with 1 Axes>"
      ]
     },
     "metadata": {},
     "output_type": "display_data"
    },
    {
     "ename": "ValueError",
     "evalue": "cannot reshape array of size 1589168 into shape (12163,newaxis)",
     "output_type": "error",
     "traceback": [
      "\u001b[1;31m---------------------------------------------------------------------------\u001b[0m",
      "\u001b[1;31mValueError\u001b[0m                                Traceback (most recent call last)",
      "Cell \u001b[1;32mIn[55], line 25\u001b[0m\n\u001b[0;32m     22\u001b[0m model, input_size \u001b[38;5;241m=\u001b[39m train_NNet(train_X_1_5, train_y_1_5, epochs\u001b[38;5;241m=\u001b[39m\u001b[38;5;241m20\u001b[39m, batch_size\u001b[38;5;241m=\u001b[39mbatch_size, eta\u001b[38;5;241m=\u001b[39meta)\n\u001b[0;32m     24\u001b[0m \u001b[38;5;66;03m# Ensure test data has the same shape as training data\u001b[39;00m\n\u001b[1;32m---> 25\u001b[0m test_X_reshaped \u001b[38;5;241m=\u001b[39m \u001b[43mtest_X_1_5\u001b[49m\u001b[38;5;241;43m.\u001b[39;49m\u001b[43mreshape\u001b[49m\u001b[43m(\u001b[49m\u001b[43minput_size\u001b[49m\u001b[43m,\u001b[49m\u001b[43m \u001b[49m\u001b[38;5;241;43m-\u001b[39;49m\u001b[38;5;241;43m1\u001b[39;49m\u001b[43m)\u001b[49m\n\u001b[0;32m     27\u001b[0m \u001b[38;5;66;03m# Evaluate model\u001b[39;00m\n\u001b[0;32m     28\u001b[0m acc, cm \u001b[38;5;241m=\u001b[39m evaluate_model(test_X_reshaped, test_y_1_5, model, \u001b[38;5;241m1\u001b[39m, \u001b[38;5;241m5\u001b[39m)\n",
      "\u001b[1;31mValueError\u001b[0m: cannot reshape array of size 1589168 into shape (12163,newaxis)"
     ]
    }
   ],
   "source": [
    "from sklearn.metrics import  confusion_matrix\n",
    "import seaborn as sns\n",
    "\n",
    "# Define a function to evaluate and plot confusion matrix\n",
    "def evaluate_model(test_data, test_labels, model, d1, d2):\n",
    "    acc, Y_predicted = test_model(test_data, test_labels, model, d1, d2)\n",
    "    cm = confusion_matrix(test_labels, Y_predicted, labels=[d1, d2])\n",
    "    return acc, cm\n",
    "\n",
    "# Example hyperparameters to test\n",
    "batch_sizes = [500, 1000, 2000]\n",
    "etas = [0.01, 0.05, 0.1]\n",
    "hidden_layers_options = [[500, 250], [500, 250, 50], [1000, 500, 250]]\n",
    "\n",
    "best_accuracy = 0\n",
    "best_params = None\n",
    "\n",
    "for batch_size in batch_sizes:\n",
    "    for eta in etas:\n",
    "        for hidden_layers in hidden_layers_options:\n",
    "            # Initialize and train model\n",
    "            model, input_size = train_NNet(train_X_1_5, train_y_1_5, epochs=20, batch_size=batch_size, eta=eta)\n",
    "            \n",
    "            # Ensure test data has the same shape as training data\n",
    "            test_X_reshaped = test_X_1_5.reshape(input_size, -1)\n",
    "            \n",
    "            # Evaluate model\n",
    "            acc, cm = evaluate_model(test_X_reshaped, test_y_1_5, model, 1, 5)\n",
    "            print(f\"Batch size: {batch_size}, eta: {eta}, Hidden layers: {hidden_layers}, Accuracy: {acc}\")\n",
    "            \n",
    "            # Track best model\n",
    "            if acc > best_accuracy:\n",
    "                best_accuracy = acc\n",
    "                best_params = (batch_size, eta, hidden_layers)\n",
    "                best_cm = cm\n",
    "\n",
    "# Print best hyperparameters and accuracy\n",
    "print(f\"Best accuracy: {best_accuracy} with batch size: {best_params[0]}, eta: {best_params[1]}, hidden layers: {best_params[2]}\")\n",
    "\n",
    "# Plot confusion matrix\n",
    "plt.figure(figsize=(8, 6))\n",
    "sns.heatmap(best_cm, annot=True, fmt=\"d\", cmap=\"Blues\", xticklabels=[1, 5], yticklabels=[1, 5])\n",
    "plt.xlabel('Predicted')\n",
    "plt.ylabel('True')\n",
    "plt.title('Confusion Matrix')\n",
    "plt.show()"
   ]
  },
  {
   "cell_type": "code",
   "execution_count": null,
   "id": "4fc80c1b",
   "metadata": {},
   "outputs": [],
   "source": []
  },
  {
   "cell_type": "code",
   "execution_count": null,
   "id": "bfa0b1ed",
   "metadata": {},
   "outputs": [],
   "source": []
  }
 ],
 "metadata": {
  "kernelspec": {
   "display_name": "Python 3 (ipykernel)",
   "language": "python",
   "name": "python3"
  },
  "language_info": {
   "codemirror_mode": {
    "name": "ipython",
    "version": 3
   },
   "file_extension": ".py",
   "mimetype": "text/x-python",
   "name": "python",
   "nbconvert_exporter": "python",
   "pygments_lexer": "ipython3",
   "version": "3.8.0"
  }
 },
 "nbformat": 4,
 "nbformat_minor": 5
}

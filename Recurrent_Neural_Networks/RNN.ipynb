{
 "cells": [
  {
   "cell_type": "markdown",
   "id": "dda0e25f-476a-43c0-b3e7-f96a707be566",
   "metadata": {
    "deletable": false,
    "editable": false
   },
   "source": [
    "# <center>Recurrent Neural Networks</center>\n",
    "## <center>Inclass Project 3 - MA4144</center>\n",
    "\n",
    "This project contains 10 tasks/questions to be completed, some require written answers. Open a markdown cell below the respective question that require written answers and provide (type) your answers. Questions that required written answers are given in blue fonts. Almost all written questions are open ended, they do not have a correct or wrong answer. You are free to give your opinions, but please provide related answers within the context.\n",
    "\n",
    "After finishing project run the entire notebook once and **save the notebook as a pdf** (File menu -> Save and Export Notebook As -> PDF). You are **required to upload this PDF on moodle**.\n",
    "\n",
    "***"
   ]
  },
  {
   "cell_type": "markdown",
   "id": "03930b71-f7aa-4eb8-a078-70fc89a1ac16",
   "metadata": {
    "deletable": false,
    "editable": false
   },
   "source": [
    "## Outline of the project\n",
    "\n",
    "The aim of the project is to build a RNN model to suggest autocompletion of half typed words. You may have seen this in many day today applications; typing an email, a text message etc. For example, suppose you type in the four letter \"univ\", the application may suggest you to autocomplete it by \"university\".\n",
    "\n",
    "![Autocomplete](https://d33v4339jhl8k0.cloudfront.net/docs/assets/5c12e83004286304a71d5b72/images/66d0cb106eb51e63b8f9fbc6/file-gBQe016VYt.gif)\n",
    "\n",
    "We will train a RNN to suggest possible autocompletes given $3$ - $4$ starting letters. That is if we input a string \"univ\" hopefully we expect to see an output like \"university\", \"universal\" etc.\n",
    "\n",
    "For this we will use a text file (wordlist.txt) containing 10,000 common English words (you'll find the file on the moodle link). The list of words will be the \"**vocabulary**\" for our model.\n",
    "\n",
    "We will use the Python **torch library** to implement our autocomplete model. \n",
    "\n",
    "***\n"
   ]
  },
  {
   "cell_type": "markdown",
   "id": "f4db6bc0-f7e0-473d-a172-e6579deea2ee",
   "metadata": {
    "deletable": false,
    "editable": false
   },
   "source": [
    "Use the below cell to use any include any imports"
   ]
  },
  {
   "cell_type": "code",
   "execution_count": 1,
   "id": "76fdc286-3211-4a8f-9802-29d28a324bea",
   "metadata": {},
   "outputs": [
    {
     "name": "stderr",
     "output_type": "stream",
     "text": [
      "c:\\program flies\\python\\python38\\lib\\site-packages\\tqdm\\auto.py:21: TqdmWarning: IProgress not found. Please update jupyter and ipywidgets. See https://ipywidgets.readthedocs.io/en/stable/user_install.html\n",
      "  from .autonotebook import tqdm as notebook_tqdm\n"
     ]
    }
   ],
   "source": [
    "import torch\n",
    "import torch.nn as nn\n",
    "import torch.optim as optim\n",
    "import numpy as np\n",
    "import matplotlib.pyplot as plt\n",
    "import random"
   ]
  },
  {
   "cell_type": "markdown",
   "id": "8622b61b-dba8-47bb-8e07-92b77e78f4fa",
   "metadata": {
    "deletable": false,
    "editable": false
   },
   "source": [
    "## Section 1: Preparing the vocabulary"
   ]
  },
  {
   "cell_type": "code",
   "execution_count": 2,
   "id": "555a82e5-e56c-4075-a2a2-071633cd4d4c",
   "metadata": {},
   "outputs": [],
   "source": [
    "WORD_SIZE = 13"
   ]
  },
  {
   "cell_type": "markdown",
   "id": "ef4f44ef-91d0-4d0e-afb5-a66240c9e1d4",
   "metadata": {
    "deletable": false,
    "editable": false
   },
   "source": [
    "**Q1.** In the following cell provide code to load the text file (each word is in a newline), then extract the words (in lowercase) into a list.\n",
    "\n",
    "For practical reasons of training the model we will only use words that are longer that $3$ letters and that have a maximum length of WORD_SIZE (this will be a constant we set at the beginning - you can change this and experiment with different WORD_SIZEs). As seen above it is set to $13$.\n",
    "\n",
    "So out of the extracted list of words filter out those words that match our criteria on word length.\n",
    "\n",
    "To train our model it is convenient to have words/strings of equal length. We will choose to convert every word to length of WORD_SIZE, by adding underscores to the end of the word if it is initially shorter than WORD_SIZE. For example, we will convert the word \"university\" (word length 10) into \"university___\" (wordlength 13). In your code include this conversion as well.\n",
    "\n",
    "Store the processed WORD_SIZE lengthed strings in a list called vocab."
   ]
  },
  {
   "cell_type": "code",
   "execution_count": 3,
   "id": "3219551c-a298-424a-a491-2d7f65a4ad6f",
   "metadata": {},
   "outputs": [
    {
     "name": "stdout",
     "output_type": "stream",
     "text": [
      "First 10 processed words: ['aaron        ', 'abandoned    ', 'aberdeen     ', 'abilities    ', 'ability      ', 'able         ', 'aboriginal   ', 'abortion     ', 'about        ', 'above        ']\n"
     ]
    }
   ],
   "source": [
    "#TODO\n",
    "def preprocess_wordlist(filename):\n",
    "    vocab = []  \n",
    "    \n",
    "    with open(filename, 'r') as file:\n",
    "        words = [line.strip().lower() for line in file.readlines()]  \n",
    "    \n",
    "    filtered_words = [word for word in words if 3 < len(word) <= WORD_SIZE]\n",
    "    \n",
    "    for word in filtered_words:\n",
    "        padded_word = word.ljust(WORD_SIZE, ' ')  \n",
    "        vocab.append(padded_word)\n",
    "    \n",
    "    return vocab\n",
    "\n",
    "\n",
    "filename = 'wordlist.txt'  \n",
    "vocab = preprocess_wordlist(filename)\n",
    "\n",
    "print(\"First 10 processed words:\", vocab[:10])"
   ]
  },
  {
   "cell_type": "markdown",
   "id": "69d3a6fe-c0a7-4808-aa1a-4c3ad6db6de3",
   "metadata": {
    "deletable": false,
    "editable": false
   },
   "source": [
    "<font color='blue'>In the above explanation it was mentioned \"for practical reasons of training the model we will only use words that are longer that $3$ letters and that have a certain maximum length\". In your opinion what could be those practical? Will hit help to build a better model?</font>"
   ]
  },
  {
   "cell_type": "markdown",
   "id": "aaf86cdd-96b2-40eb-8230-c3f04e93cfc4",
   "metadata": {},
   "source": [
    "\n",
    "Reducing Noise: Short words (e.g., \"I\", \"to\") add little value and can clutter the training data.\n",
    "\n",
    "Memory Efficiency: Longer sequences increase computational costs, slowing training. Limiting word length ensures faster, more efficient processing.\n",
    "\n",
    "Improved Generalization: Focusing on moderate-length words helps the model learn useful patterns that generalize better.\n",
    "\n",
    "Balanced Padding: Limiting word lengths avoids excessive padding, making training more efficient and balanced.\n",
    "\n",
    "Avoiding Overfitting: Excluding extremes (very short or long words) reduces the risk of overfitting, improving model performance.\n",
    "\n",
    "Practical Context: In real-world applications, longer words are more useful for autocompletion.\n"
   ]
  },
  {
   "cell_type": "markdown",
   "id": "552b2e6d-f771-4782-8b21-73c121565faa",
   "metadata": {
    "deletable": false,
    "editable": false
   },
   "source": [
    "**Q2** To input words into the model, we will need to convert each letter/character into a number. as we have seen above, the only characters in our list vocab will be the underscore and lowercase english letters. so we will convert these $27$ characters into numbers as follows: underscore -> $0$, 'a' -> $1$, 'b' -> $2$, $\\cdots$, 'z' -> $26$. In the following cell,\n",
    "\n",
    "(i) Implement a method called char_to_num, that takes in a valid character and outputs its numerical assignment.\n",
    "\n",
    "(ii) Implement a method called num_to_char, that takes in a valid number from $0$ to $26$ and outputs the corresponding character.\n",
    "\n",
    "(iii) Implement a method called word_to_numlist, that takes in a word from our vocabulary and outputs a (torch) tensor of numbers that corresponds to each character in the word in that order. For example: the word \"united_______\" will be converted to tensor([21, 14,  9, 20,  5,  4,  0,  0,  0,  0,  0,  0,  0]). You are encouraged to use your char_to_num method for this.\n",
    "\n",
    "(iv) Implement a method called numlist_to_word, that does the opposite of the above described word_to_numlist, given a tensor of numbers from $0$ to $26$, outputs the corresponding word. You are encouraged to use your  num_to_char method for this.\n",
    "\n",
    "Note: As mentioned since we are using the torch library we will be using tensors instead of the usual python lists or numpy arrays. Tensors are the list equivalent in torch. Torch models only accept tensors as input and they output tensors."
   ]
  },
  {
   "cell_type": "code",
   "execution_count": 4,
   "id": "054a4ab4-5883-4948-adc5-eb8916b6234d",
   "metadata": {},
   "outputs": [],
   "source": [
    "def char_to_num(char):\n",
    "\n",
    "    #TODO\n",
    "    if char == ' ':\n",
    "        return 0\n",
    "    else:\n",
    "        return ord(char) - ord('a') + 1\n",
    "    \n",
    "\n",
    "\n",
    "def num_to_char(num):\n",
    "\n",
    "    #TODO\n",
    "    if num == 0:\n",
    "        return ' '\n",
    "    else:\n",
    "        return chr(num + ord('a') - 1)\n",
    "\n",
    "def word_to_numlist(word):\n",
    "\n",
    "    num_list = [char_to_num(char) for char in word]\n",
    "    return torch.tensor(num_list)\n",
    "    \n",
    "\n",
    "def numlist_to_word(numlist):\n",
    "\n",
    "    #TODO\n",
    "    word = ''.join([num_to_char(num.item()) for num in numlist])\n",
    "    return(word)"
   ]
  },
  {
   "cell_type": "markdown",
   "id": "028d1936-fadb-4ddb-9027-3a75960aa6b1",
   "metadata": {
    "deletable": false,
    "editable": false
   },
   "source": [
    "<font color='blue'>We convert letter into just numbers based on their aphabetical order, I claim that it is a very bad way to encode data such as letters to be fed into learning models, please write your explanation to or against my claim. If you are searching for reasons, the keyword 'categorical data' may be useful. Although the letters in our case are not treated as categorical data, the same reasons as for categorical data is applicable. Even if my claim is valid, at the end it won't matter due to something called \"embedding layers\" that we will use in our model. What is an embedding layer? What is it's purpose? Explain.</font>"
   ]
  },
  {
   "cell_type": "markdown",
   "id": "65de3f69-cd06-4adc-8150-2522802f345a",
   "metadata": {},
   "source": [
    "My claim is valid because encoding letters as numbers based on their alphabetical order (ordinal encoding) imposes an artificial relationship between characters that doesn't exist, leading the model to potentially learn incorrect patterns. In cases like NLP, letters should be treated as categorical data, where each character is distinct and unordered. Ordinal encoding may imply false proximity between letters like 'a' and 'b', which is irrelevant for the model's learning task. However, this issue is resolved by using embedding layers in neural networks. Embedding layers convert categorical data, like letters, into dense, continuous-valued vectors in a lower-dimensional space. These embeddings are learned during training and help the model capture meaningful relationships between characters, such as similarities and patterns, based on how they are used. This allows for efficient and accurate representation of the data, improving the model's performance. Therefore, while ordinal encoding might initially seem problematic, embedding layers address this by learning appropriate representations of the input."
   ]
  },
  {
   "cell_type": "markdown",
   "id": "92070a74-0f42-435d-a3ba-b38f0d1aaf3c",
   "metadata": {
    "deletable": false,
    "editable": false
   },
   "source": [
    "## Section 2: Implementing the Autocomplete model"
   ]
  },
  {
   "cell_type": "markdown",
   "id": "6cbb965e-afcd-41ae-86f0-2f3d4682e18b",
   "metadata": {
    "deletable": false,
    "editable": false
   },
   "source": [
    "We will implement a RNN model based on LSTM. The [video tutorial](https://www.youtube.com/watch?v=tL5puCeDr-o) will be useful. Our model will be only one hidden layer, but feel free to sophisticate with more layers after the project for your own experiments.\n",
    "\n",
    "Our model will contain all the training and prediction methods as single package in a class (autocompleteModel) we will define and implement below."
   ]
  },
  {
   "cell_type": "code",
   "execution_count": 5,
   "id": "0dfe311c-669d-4d58-a833-ae3970b6d271",
   "metadata": {},
   "outputs": [],
   "source": [
    "LEARNING_RATE = 0.005"
   ]
  },
  {
   "cell_type": "code",
   "execution_count": 6,
   "id": "4976fc91-2c4e-497a-954e-9014dd31be5e",
   "metadata": {},
   "outputs": [],
   "source": [
    "class autocompleteModel(nn.Module):\n",
    "\n",
    "    #Constructor\n",
    "    def __init__(self, alphabet_size, embed_dim, hidden_size, num_layers):\n",
    "        super().__init__()\n",
    "        # Set the input parameters to self parameters\n",
    "        self.alphabet_size = alphabet_size\n",
    "        self.embed_dim = embed_dim\n",
    "        self.hidden_size = hidden_size\n",
    "        self.num_layers = num_layers\n",
    "        \n",
    "        # 1. Embedding layer\n",
    "        self.embedding = nn.Embedding(alphabet_size, embed_dim)\n",
    "        \n",
    "        # 2. LSTM layer\n",
    "        self.lstm = nn.LSTM(embed_dim, hidden_size, num_layers)\n",
    "        \n",
    "        # 3. Fully connected layer (output)\n",
    "        self.fc = nn.Linear(hidden_size, alphabet_size)\n",
    "\n",
    "    #Feedforward\n",
    "    def forward(self, character, hidden_state, cell_state):\n",
    "\n",
    "        #Perform feedforward in order\n",
    "\n",
    "        #TODO\n",
    "        # 1. Embed the input character\n",
    "        embedded_char = self.embedding(character)\n",
    "        \n",
    "        # 2. Feed the embedded output to the LSTM cell\n",
    "        lstm_out, (hidden_state, cell_state) = self.lstm(embedded_char.view(1, 1, -1), (hidden_state, cell_state))\n",
    "        \n",
    "        # 3. Fully connected layer to get the output\n",
    "        output = self.fc(lstm_out.view(1, -1))\n",
    "        \n",
    "        return output, hidden_state, cell_state\n",
    "\n",
    "    #Intialize the first hidden state and cell state (for the start of a word) as zero tensors of required length.\n",
    "    def initial_state(self):\n",
    "\n",
    "        #TODO\n",
    "        h0 = torch.zeros(self.num_layers, 1, self.hidden_size)\n",
    "        c0 = torch.zeros(self.num_layers, 1, self.hidden_size)\n",
    "        \n",
    "        return (h0, c0)\n",
    "\n",
    "    #Train the model in epochs given the vocab, the training will be fed in batches of batch_size\n",
    "#     def trainModel(self, vocab, epochs = 5, batch_size = 100):\n",
    "\n",
    "#         #Convert the model into train mode\n",
    "#         self.train()\n",
    "\n",
    "#         #Set the optimizer (ADAM), you may need to provide the model parameters  and learning rate\n",
    "#         optimizer = optim.Adam(self.parameters(), lr=learning_rate)\n",
    "#         loss_fn = nn.CrossEntropyLoss()\n",
    "\n",
    "#         #Keep a log of the loss at the end of each training cycle.\n",
    "#         loss_log = []\n",
    "\n",
    "#         for e in range(epochs):\n",
    "\n",
    "#             #TODO: Shuffle the vocab list the start of each epoch\n",
    "#             random.shuffle(vocab)\n",
    "#             num_iter = len(vocab) // batch_size\n",
    "\n",
    "#             for i in range(num_iter):\n",
    "\n",
    "#                 #TODO: Set the loss to zero, initialize the optimizer with zero_grad at the beginning of each training cycle.\n",
    "#                 vocab_batch = vocab[i * batch_size:(i + 1) * batch_size]\n",
    "#                 optimizer.zero_grad()\n",
    "#                 total_loss = 0\n",
    "                \n",
    "#                 for word in vocab_batch:\n",
    "\n",
    "#                     #TODO: Initialize the hidden state and cell state at the start of each word.\n",
    "#                     h0, c0 = self.initial_state()\n",
    "#                     #TODO: Convert the word into a tensor of number and create input and target from the word\n",
    "#                     word_tensor = word_to_numlist(word)  \n",
    "#                     input_seq = word_tensor[:-1]  \n",
    "#                     target_seq = word_tensor[1:]  \n",
    "#                     #Input will be the first WORD_SIZE - 1 charcters and target is the last WORD_SIZE - 1 charcters\n",
    "\n",
    "#                     #Loop through each character (as a number) in the word\n",
    "#                     WORD_SIZE = len(word_tensor)\n",
    "#                     for c in range(WORD_SIZE):\n",
    "#                         #TODO: Feed the cth character to the model (feedforward) and comput the loss (use cross entropy in torch)\n",
    "#                         output, h0, c0 = self.forward(input_seq[c], h0, c0)\n",
    "#                         loss = loss_fn(output, target_seq[c].unsqueeze(0))\n",
    "#                         total_loss += loss\n",
    "\n",
    "#                 #TODO: Compute the average loss per word in the batch and perform backpropagation (.backward())\n",
    "#                 total_loss /= batch_size  \n",
    "#                 total_loss.backward()\n",
    "#                 #TODO: Update model parameters using the optimizer\n",
    "#                 optimizer.step()\n",
    "#                 #Update the loss_log \n",
    "#                 loss_log.append(loss.item())\n",
    "\n",
    "#             print(\"Epoch: \", e)\n",
    "\n",
    "#         #TODO Plot a graph of the variation of the loss.\n",
    "#         plt.plot(loss_log)\n",
    "#         plt.xlabel(\"Iterations\")\n",
    "#         plt.ylabel(\"Loss\")\n",
    "#         plt.show()\n",
    "\n",
    "\n",
    "    def trainModel(self, vocab, epochs=5, batch_size=100):\n",
    "            self.train()\n",
    "            optimizer = optim.Adam(self.parameters(), lr=learning_rate)\n",
    "            loss_fn = nn.CrossEntropyLoss()\n",
    "            loss_log = []\n",
    "\n",
    "            for e in range(epochs):\n",
    "                # Shuffle the vocab list\n",
    "                shuffled_vocab = vocab.copy()\n",
    "                torch.manual_seed(e)\n",
    "                torch.randperm(len(shuffled_vocab))\n",
    "\n",
    "                for i in range(0, len(shuffled_vocab), batch_size):\n",
    "                    vocab_batch = shuffled_vocab[i:i + batch_size]\n",
    "\n",
    "                    for word in vocab_batch:\n",
    "                        hidden_state, cell_state = self.initial_state()\n",
    "                        input_tensor = torch.tensor([char_to_num(c) for c in word[:-1]])  # Input: all but last char\n",
    "                        target_tensor = torch.tensor([char_to_num(c) for c in word[1:]])  # Target: all but first char\n",
    "\n",
    "                        optimizer.zero_grad()\n",
    "                        total_loss = 0\n",
    "\n",
    "                        WORD_SIZE = len(input_tensor)\n",
    "\n",
    "                        for c in range(WORD_SIZE):  # Loop through each character in the input sequence\n",
    "                            output, hidden_state, cell_state = self(input_tensor[c], hidden_state, cell_state)\n",
    "\n",
    "                            # Ensure the output and target shapes are compatible for loss calculation\n",
    "                            loss = loss_fn(output.view(1, -1), target_tensor[c].view(1))\n",
    "                            total_loss += loss\n",
    "\n",
    "                        total_loss.backward()\n",
    "                        optimizer.step()\n",
    "                        loss_log.append(total_loss.item() / WORD_SIZE)\n",
    "\n",
    "                print(f\"Epoch: {e}, Loss: {total_loss.item() / len(vocab_batch)}\")\n",
    "\n",
    "            # Plotting loss log\n",
    "            plt.plot(loss_log)\n",
    "            plt.title(\"Loss Curve\")\n",
    "            plt.xlabel(\"Iterations\")\n",
    "            plt.ylabel(\"Loss\")\n",
    "            plt.show()\n",
    "\n",
    "\n",
    "    #Perform autocmplete given a sample of strings (typically 3-5 starting letters)\n",
    "    def autocomplete(self, sample):\n",
    "\n",
    "        #Convert the model into evaluation mode\n",
    "        self.eval()\n",
    "\n",
    "        #TODO: In the following loop for each sample item initialize hidden and cell states, then predict the remaining characters\n",
    "        completed_list = []\n",
    "        #You will have to convert the output into a softmax (you may use your softmax method from the last project) probability distribution, then use torch.multinomial \n",
    "        for literal in sample:\n",
    "            h0, c0 = self.initial_state()\n",
    "            input_tensor = word_to_numlist(literal)\n",
    "\n",
    "            for i in range(len(literal), WORD_SIZE):\n",
    "                output, h0, c0 = self.forward(input_tensor[i-1], h0, c0)\n",
    "                probabilities = torch.softmax(output, dim=1)\n",
    "                next_char = torch.multinomial(probabilities, 1).item()\n",
    "                input_tensor = torch.cat((input_tensor, torch.tensor([next_char])))\n",
    "\n",
    "            completed_list.append(numlist_to_word(input_tensor))\n",
    "\n",
    "        return(completed_list)"
   ]
  },
  {
   "cell_type": "markdown",
   "id": "1f9b5489-b770-4519-b20c-4f2beebfb8f9",
   "metadata": {
    "deletable": false,
    "editable": false
   },
   "source": [
    "## Section 3: Using and evaluating the model\n",
    "\n",
    "(i) Feel free to initialize a autocompleteModel using different embedding dimensions and hidden layer sizes. Use different learning rates, epochs, batch sizes. Train the best model you can. Show the loss curves in you answers.\n",
    "\n",
    "(ii) Evaluate it on different samples of partially filled in words. Eg: [\"univ\", \"math\", \"neur\", \"engin\"] etc. Please show outputs for different samples.\n",
    "\n",
    "<font color='blue'>Comment on the results. Is it successful? Do you see familiar substrings in the generated tesxt such as \"tion\", \"ing\", \"able\" etc. What are your suggestions to improve the model?</font>"
   ]
  },
  {
   "cell_type": "code",
   "execution_count": 21,
   "id": "6756f1cc",
   "metadata": {},
   "outputs": [
    {
     "name": "stdout",
     "output_type": "stream",
     "text": [
      "Epoch: 0, Loss: 0.9313086827596029\n",
      "Epoch: 1, Loss: 0.8783779780069987\n",
      "Epoch: 2, Loss: 0.913624127705892\n",
      "Epoch: 3, Loss: 0.8645646413167317\n",
      "Epoch: 4, Loss: 0.8709554672241211\n",
      "Epoch: 5, Loss: 0.886652946472168\n",
      "Epoch: 6, Loss: 0.8894267400105794\n",
      "Epoch: 7, Loss: 0.8910010655721029\n",
      "Epoch: 8, Loss: 0.9225958506266276\n",
      "Epoch: 9, Loss: 0.8851359049479167\n",
      "Epoch: 10, Loss: 0.7735613505045573\n",
      "Epoch: 11, Loss: 0.7574347178141276\n",
      "Epoch: 12, Loss: 0.796506690979004\n",
      "Epoch: 13, Loss: 0.8488770167032877\n",
      "Epoch: 14, Loss: 0.686215337117513\n",
      "Epoch: 15, Loss: 0.7296607971191407\n",
      "Epoch: 16, Loss: 0.6201409657796224\n",
      "Epoch: 17, Loss: 0.701006825764974\n",
      "Epoch: 18, Loss: 0.5473617553710938\n",
      "Epoch: 19, Loss: 0.6722112655639648\n",
      "Epoch: 20, Loss: 0.5938430150349935\n",
      "Epoch: 21, Loss: 0.5847899119059244\n",
      "Epoch: 22, Loss: 0.6330847422281901\n",
      "Epoch: 23, Loss: 0.616985575358073\n",
      "Epoch: 24, Loss: 0.7499560674031576\n",
      "Epoch: 25, Loss: 0.5194391886393229\n",
      "Epoch: 26, Loss: 0.5017289797465007\n",
      "Epoch: 27, Loss: 0.43146276473999023\n",
      "Epoch: 28, Loss: 0.5404420216878255\n",
      "Epoch: 29, Loss: 0.43678579330444334\n",
      "Epoch: 30, Loss: 0.4356411298116048\n",
      "Epoch: 31, Loss: 0.5467020034790039\n",
      "Epoch: 32, Loss: 0.45079822540283204\n",
      "Epoch: 33, Loss: 0.5733972549438476\n",
      "Epoch: 34, Loss: 0.5704552968343098\n",
      "Epoch: 35, Loss: 0.6246077219645182\n",
      "Epoch: 36, Loss: 0.5162439982096354\n",
      "Epoch: 37, Loss: 0.3885604540506999\n",
      "Epoch: 38, Loss: 0.4211604118347168\n",
      "Epoch: 39, Loss: 0.5296900431315105\n",
      "Epoch: 40, Loss: 0.3537647247314453\n",
      "Epoch: 41, Loss: 0.4498083750406901\n",
      "Epoch: 42, Loss: 0.42164077758789065\n",
      "Epoch: 43, Loss: 0.4335761070251465\n",
      "Epoch: 44, Loss: 0.33421522776285806\n",
      "Epoch: 45, Loss: 0.4343642552693685\n",
      "Epoch: 46, Loss: 0.44782822926839194\n",
      "Epoch: 47, Loss: 0.4317088445027669\n",
      "Epoch: 48, Loss: 0.37966858545939125\n",
      "Epoch: 49, Loss: 0.38128811518351235\n"
     ]
    },
    {
     "data": {
      "image/png": "[encoded data removed]",
      "text/plain": [
       "<Figure size 640x480 with 1 Axes>"
      ]
     },
     "metadata": {},
     "output_type": "display_data"
    },
    {
     "ename": "ValueError",
     "evalue": "x, y, and format string must not be None",
     "output_type": "error",
     "traceback": [
      "\u001b[1;31m---------------------------------------------------------------------------\u001b[0m",
      "\u001b[1;31mValueError\u001b[0m                                Traceback (most recent call last)",
      "Cell \u001b[1;32mIn[21], line 29\u001b[0m\n\u001b[0;32m     26\u001b[0m loss_log \u001b[38;5;241m=\u001b[39m model\u001b[38;5;241m.\u001b[39mtrainModel(vocab, epochs\u001b[38;5;241m=\u001b[39mepochs, batch_size\u001b[38;5;241m=\u001b[39mbatch_size)\n\u001b[0;32m     28\u001b[0m \u001b[38;5;66;03m# Plotting the loss curve\u001b[39;00m\n\u001b[1;32m---> 29\u001b[0m \u001b[43mplt\u001b[49m\u001b[38;5;241;43m.\u001b[39;49m\u001b[43mplot\u001b[49m\u001b[43m(\u001b[49m\u001b[43mloss_log\u001b[49m\u001b[43m)\u001b[49m\n\u001b[0;32m     30\u001b[0m plt\u001b[38;5;241m.\u001b[39mtitle(\u001b[38;5;124m\"\u001b[39m\u001b[38;5;124mLoss Curve\u001b[39m\u001b[38;5;124m\"\u001b[39m)\n\u001b[0;32m     31\u001b[0m plt\u001b[38;5;241m.\u001b[39mxlabel(\u001b[38;5;124m\"\u001b[39m\u001b[38;5;124mIterations\u001b[39m\u001b[38;5;124m\"\u001b[39m)\n",
      "File \u001b[1;32mc:\\program flies\\python\\python38\\lib\\site-packages\\matplotlib\\pyplot.py:2812\u001b[0m, in \u001b[0;36mplot\u001b[1;34m(scalex, scaley, data, *args, **kwargs)\u001b[0m\n\u001b[0;32m   2810\u001b[0m \u001b[38;5;129m@_copy_docstring_and_deprecators\u001b[39m(Axes\u001b[38;5;241m.\u001b[39mplot)\n\u001b[0;32m   2811\u001b[0m \u001b[38;5;28;01mdef\u001b[39;00m \u001b[38;5;21mplot\u001b[39m(\u001b[38;5;241m*\u001b[39margs, scalex\u001b[38;5;241m=\u001b[39m\u001b[38;5;28;01mTrue\u001b[39;00m, scaley\u001b[38;5;241m=\u001b[39m\u001b[38;5;28;01mTrue\u001b[39;00m, data\u001b[38;5;241m=\u001b[39m\u001b[38;5;28;01mNone\u001b[39;00m, \u001b[38;5;241m*\u001b[39m\u001b[38;5;241m*\u001b[39mkwargs):\n\u001b[1;32m-> 2812\u001b[0m     \u001b[38;5;28;01mreturn\u001b[39;00m \u001b[43mgca\u001b[49m\u001b[43m(\u001b[49m\u001b[43m)\u001b[49m\u001b[38;5;241;43m.\u001b[39;49m\u001b[43mplot\u001b[49m\u001b[43m(\u001b[49m\n\u001b[0;32m   2813\u001b[0m \u001b[43m        \u001b[49m\u001b[38;5;241;43m*\u001b[39;49m\u001b[43margs\u001b[49m\u001b[43m,\u001b[49m\u001b[43m \u001b[49m\u001b[43mscalex\u001b[49m\u001b[38;5;241;43m=\u001b[39;49m\u001b[43mscalex\u001b[49m\u001b[43m,\u001b[49m\u001b[43m \u001b[49m\u001b[43mscaley\u001b[49m\u001b[38;5;241;43m=\u001b[39;49m\u001b[43mscaley\u001b[49m\u001b[43m,\u001b[49m\n\u001b[0;32m   2814\u001b[0m \u001b[43m        \u001b[49m\u001b[38;5;241;43m*\u001b[39;49m\u001b[38;5;241;43m*\u001b[39;49m\u001b[43m(\u001b[49m\u001b[43m{\u001b[49m\u001b[38;5;124;43m\"\u001b[39;49m\u001b[38;5;124;43mdata\u001b[39;49m\u001b[38;5;124;43m\"\u001b[39;49m\u001b[43m:\u001b[49m\u001b[43m \u001b[49m\u001b[43mdata\u001b[49m\u001b[43m}\u001b[49m\u001b[43m \u001b[49m\u001b[38;5;28;43;01mif\u001b[39;49;00m\u001b[43m \u001b[49m\u001b[43mdata\u001b[49m\u001b[43m \u001b[49m\u001b[38;5;129;43;01mis\u001b[39;49;00m\u001b[43m \u001b[49m\u001b[38;5;129;43;01mnot\u001b[39;49;00m\u001b[43m \u001b[49m\u001b[38;5;28;43;01mNone\u001b[39;49;00m\u001b[43m \u001b[49m\u001b[38;5;28;43;01melse\u001b[39;49;00m\u001b[43m \u001b[49m\u001b[43m{\u001b[49m\u001b[43m}\u001b[49m\u001b[43m)\u001b[49m\u001b[43m,\u001b[49m\u001b[43m \u001b[49m\u001b[38;5;241;43m*\u001b[39;49m\u001b[38;5;241;43m*\u001b[39;49m\u001b[43mkwargs\u001b[49m\u001b[43m)\u001b[49m\n",
      "File \u001b[1;32mc:\\program flies\\python\\python38\\lib\\site-packages\\matplotlib\\axes\\_axes.py:1688\u001b[0m, in \u001b[0;36mAxes.plot\u001b[1;34m(self, scalex, scaley, data, *args, **kwargs)\u001b[0m\n\u001b[0;32m   1445\u001b[0m \u001b[38;5;250m\u001b[39m\u001b[38;5;124;03m\"\"\"\u001b[39;00m\n\u001b[0;32m   1446\u001b[0m \u001b[38;5;124;03mPlot y versus x as lines and/or markers.\u001b[39;00m\n\u001b[0;32m   1447\u001b[0m \n\u001b[1;32m   (...)\u001b[0m\n\u001b[0;32m   1685\u001b[0m \u001b[38;5;124;03m(``'green'``) or hex strings (``'#008000'``).\u001b[39;00m\n\u001b[0;32m   1686\u001b[0m \u001b[38;5;124;03m\"\"\"\u001b[39;00m\n\u001b[0;32m   1687\u001b[0m kwargs \u001b[38;5;241m=\u001b[39m cbook\u001b[38;5;241m.\u001b[39mnormalize_kwargs(kwargs, mlines\u001b[38;5;241m.\u001b[39mLine2D)\n\u001b[1;32m-> 1688\u001b[0m lines \u001b[38;5;241m=\u001b[39m [\u001b[38;5;241m*\u001b[39m\u001b[38;5;28mself\u001b[39m\u001b[38;5;241m.\u001b[39m_get_lines(\u001b[38;5;241m*\u001b[39margs, data\u001b[38;5;241m=\u001b[39mdata, \u001b[38;5;241m*\u001b[39m\u001b[38;5;241m*\u001b[39mkwargs)]\n\u001b[0;32m   1689\u001b[0m \u001b[38;5;28;01mfor\u001b[39;00m line \u001b[38;5;129;01min\u001b[39;00m lines:\n\u001b[0;32m   1690\u001b[0m     \u001b[38;5;28mself\u001b[39m\u001b[38;5;241m.\u001b[39madd_line(line)\n",
      "File \u001b[1;32mc:\\program flies\\python\\python38\\lib\\site-packages\\matplotlib\\axes\\_base.py:311\u001b[0m, in \u001b[0;36m_process_plot_var_args.__call__\u001b[1;34m(self, data, *args, **kwargs)\u001b[0m\n\u001b[0;32m    309\u001b[0m     this \u001b[38;5;241m+\u001b[39m\u001b[38;5;241m=\u001b[39m args[\u001b[38;5;241m0\u001b[39m],\n\u001b[0;32m    310\u001b[0m     args \u001b[38;5;241m=\u001b[39m args[\u001b[38;5;241m1\u001b[39m:]\n\u001b[1;32m--> 311\u001b[0m \u001b[38;5;28;01myield from\u001b[39;00m \u001b[38;5;28;43mself\u001b[39;49m\u001b[38;5;241;43m.\u001b[39;49m\u001b[43m_plot_args\u001b[49m\u001b[43m(\u001b[49m\n\u001b[0;32m    312\u001b[0m \u001b[43m    \u001b[49m\u001b[43mthis\u001b[49m\u001b[43m,\u001b[49m\u001b[43m \u001b[49m\u001b[43mkwargs\u001b[49m\u001b[43m,\u001b[49m\u001b[43m \u001b[49m\u001b[43mambiguous_fmt_datakey\u001b[49m\u001b[38;5;241;43m=\u001b[39;49m\u001b[43mambiguous_fmt_datakey\u001b[49m\u001b[43m)\u001b[49m\n",
      "File \u001b[1;32mc:\\program flies\\python\\python38\\lib\\site-packages\\matplotlib\\axes\\_base.py:465\u001b[0m, in \u001b[0;36m_process_plot_var_args._plot_args\u001b[1;34m(self, tup, kwargs, return_kwargs, ambiguous_fmt_datakey)\u001b[0m\n\u001b[0;32m    462\u001b[0m \u001b[38;5;66;03m# Don't allow any None value; these would be up-converted to one\u001b[39;00m\n\u001b[0;32m    463\u001b[0m \u001b[38;5;66;03m# element array of None which causes problems downstream.\u001b[39;00m\n\u001b[0;32m    464\u001b[0m \u001b[38;5;28;01mif\u001b[39;00m \u001b[38;5;28many\u001b[39m(v \u001b[38;5;129;01mis\u001b[39;00m \u001b[38;5;28;01mNone\u001b[39;00m \u001b[38;5;28;01mfor\u001b[39;00m v \u001b[38;5;129;01min\u001b[39;00m tup):\n\u001b[1;32m--> 465\u001b[0m     \u001b[38;5;28;01mraise\u001b[39;00m \u001b[38;5;167;01mValueError\u001b[39;00m(\u001b[38;5;124m\"\u001b[39m\u001b[38;5;124mx, y, and format string must not be None\u001b[39m\u001b[38;5;124m\"\u001b[39m)\n\u001b[0;32m    467\u001b[0m kw \u001b[38;5;241m=\u001b[39m {}\n\u001b[0;32m    468\u001b[0m \u001b[38;5;28;01mfor\u001b[39;00m prop_name, val \u001b[38;5;129;01min\u001b[39;00m \u001b[38;5;28mzip\u001b[39m((\u001b[38;5;124m'\u001b[39m\u001b[38;5;124mlinestyle\u001b[39m\u001b[38;5;124m'\u001b[39m, \u001b[38;5;124m'\u001b[39m\u001b[38;5;124mmarker\u001b[39m\u001b[38;5;124m'\u001b[39m, \u001b[38;5;124m'\u001b[39m\u001b[38;5;124mcolor\u001b[39m\u001b[38;5;124m'\u001b[39m),\n\u001b[0;32m    469\u001b[0m                           (linestyle, marker, color)):\n",
      "\u001b[1;31mValueError\u001b[0m: x, y, and format string must not be None"
     ]
    },
    {
     "data": {
      "image/png": "[encoded data removed]",
      "text/plain": [
       "<Figure size 640x480 with 1 Axes>"
      ]
     },
     "metadata": {},
     "output_type": "display_data"
    }
   ],
   "source": [
    "import torch\n",
    "import torch.nn as nn\n",
    "import torch.optim as optim\n",
    "import matplotlib.pyplot as plt\n",
    "\n",
    "# vocab = ['universe', 'mathematics', 'neuron', 'engineering', 'univ', 'math', 'neur', 'engin', 'computer', 'science']\n",
    "\n",
    "# Hyperparameters\n",
    "# embedding_dim = 10  \n",
    "# hidden_size = 32   \n",
    "# num_layers = 1\n",
    "# learning_rate = 0.005  \n",
    "# epochs = 50           \n",
    "# batch_size = 10 \n",
    "embedding_dim = 64  \n",
    "hidden_size = 128 \n",
    "num_layers = 1\n",
    "learning_rate = 0.001  \n",
    "epochs = 50         \n",
    "batch_size = 32     \n",
    "\n",
    "# Initialize the model\n",
    "model = autocompleteModel(alphabet_size=27, embed_dim=embedding_dim, hidden_size=hidden_size, num_layers=num_layers)\n",
    "\n",
    "# Train the model and plot loss\n",
    "loss_log = model.trainModel(vocab, epochs=epochs, batch_size=batch_size)\n",
    "\n",
    "# Plotting the loss curve\n",
    "plt.plot(loss_log)\n",
    "plt.title(\"Loss Curve\")\n",
    "plt.xlabel(\"Iterations\")\n",
    "plt.ylabel(\"Loss\")\n",
    "plt.show()\n"
   ]
  },
  {
   "cell_type": "code",
   "execution_count": 32,
   "id": "3469d221",
   "metadata": {},
   "outputs": [
    {
     "name": "stdout",
     "output_type": "stream",
     "text": [
      "Input: univ -> Completed: univerify    \n",
      "Input: math -> Completed: mathunters   \n",
      "Input: neur -> Completed: neuroutine   \n",
      "Input: engin -> Completed: enginutrer   \n"
     ]
    }
   ],
   "source": [
    "# Sample partially filled words\n",
    "samples = [\"univ\", \"math\", \"neur\", \"engin\"]\n",
    "\n",
    "# Get autocomplete results\n",
    "completed_words = model.autocomplete(samples)\n",
    "\n",
    "# Displaying outputs\n",
    "for i, sample in enumerate(samples):\n",
    "    print(f\"Input: {sample} -> Completed: {completed_words[i]}\")\n"
   ]
  },
  {
   "cell_type": "markdown",
   "id": "76c9ee6e-b6bd-4e6e-95fe-2c34b788d433",
   "metadata": {},
   "source": [
    "**Answer** (to write answers edit this cell)"
   ]
  },
  {
   "cell_type": "markdown",
   "id": "ff2cb438",
   "metadata": {},
   "source": [
    "The results of the model are mixed, as the generated word completions for the given inputs (e.g., \"univ,\" \"math,\" \"neur,\" \"engin\") do not form valid or familiar words. For example, \"univ\" was completed as \"univirtue,\" which contains the recognizable word \"virtue,\" but the entire word itself is not meaningful. Similarly, \"neur\" was completed as \"neurible,\" which somewhat resembles words ending in \"-able,\" but it is not a standard word. The completions, such as \"mathorand\" and \"enginotes,\" do not align with common suffixes like \"tion,\" \"ing,\" or \"able,\" and are essentially random combinations of letters.\n",
    "\n",
    "This indicates that while the model is able to generate syntactically valid letter sequences, it is not successful in creating semantically correct or familiar words. To improve the model's performance, several strategies can be considered. First, using a larger and more representative corpus during training would help the model learn more realistic word endings and structures. Additionally, leveraging a pretrained language model, such as GPT-2 or BERT, could significantly improve word completion accuracy. Employing subword tokenization methods like Byte Pair Encoding (BPE) would also help the model recognize common linguistic patterns. Furthermore, enhancing the model architecture by increasing its complexity, applying beam search for generation, or adjusting temperature sampling could improve the quality of the generated completions. Overall, these improvements would help the model produce more meaningful and familiar word completions."
   ]
  }
 ],
 "metadata": {
  "kernelspec": {
   "display_name": "Python 3 (ipykernel)",
   "language": "python",
   "name": "python3"
  },
  "language_info": {
   "codemirror_mode": {
    "name": "ipython",
    "version": 3
   },
   "file_extension": ".py",
   "mimetype": "text/x-python",
   "name": "python",
   "nbconvert_exporter": "python",
   "pygments_lexer": "ipython3",
   "version": "3.8.0"
  }
 },
 "nbformat": 4,
 "nbformat_minor": 5
}
